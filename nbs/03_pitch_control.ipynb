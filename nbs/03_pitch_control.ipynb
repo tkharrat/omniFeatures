{
 "cells": [
  {
   "cell_type": "code",
   "execution_count": null,
   "id": "f19fb67d-afb6-49e0-b8a5-52d5fc412206",
   "metadata": {},
   "outputs": [],
   "source": [
    "#| default_exp  pitch_control"
   ]
  },
  {
   "cell_type": "code",
   "execution_count": null,
   "id": "63aeca86-29c4-40c0-a774-a9ec8d5a2ac2",
   "metadata": {},
   "outputs": [],
   "source": [
    "%load_ext autoreload\n",
    "%autoreload 2\n",
    "from IPython.core.debugger import set_trace"
   ]
  },
  {
   "cell_type": "markdown",
   "id": "51f325e7-8ccd-475c-88e1-e899a5e40fea",
   "metadata": {},
   "source": [
    "<center text-align=\\\"center;center\\\"><h1>Pitch Control</h1></center>"
   ]
  },
  {
   "cell_type": "markdown",
   "id": "0145f040-4539-4576-a496-a00b41fe2f49",
   "metadata": {},
   "source": [
    "In this module, we will compute the pitch control feature as described in <a href=https://www.researchgate.net/publication/327139841_Beyond_Expected_Goals.>Spearman's paper</a>.\n",
    "\n",
    "We will recycle some code from <a href=https://github.com/Friends-of-Tracking-Data-FoTD/LaurieOnTracking/blob/master/Tutorial3_PitchControl.py>Laurie Tutorial 3</a> to produce more optimized code. You can also check [this tutorial](https://www.youtube.com/watch?v=5X1cSehLg6s&feature=youtu.be&ab_channel=FriendsofTracking) for more information."
   ]
  },
  {
   "cell_type": "code",
   "execution_count": null,
   "id": "d63575a1-cda7-42f7-9d7e-f5fb1dc88951",
   "metadata": {},
   "outputs": [],
   "source": [
    "#| export\n",
    "\n",
    "from pathlib import Path\n",
    "from typing import Any, Callable, Optional, Tuple\n",
    "\n",
    "import numpy as np\n",
    "import pandas as pd\n",
    "from fastcore.foundation import L"
   ]
  },
  {
   "cell_type": "code",
   "execution_count": null,
   "id": "a36e2711",
   "metadata": {},
   "outputs": [],
   "source": [
    "import sys\n",
    "np.set_printoptions(threshold=sys.maxsize)\n",
    "np.set_printoptions(formatter={'float_kind':'{:f}'.format})"
   ]
  },
  {
   "cell_type": "markdown",
   "id": "a171a45e-4b27-45e2-8861-eac8cca3ce8a",
   "metadata": {},
   "source": [
    "As usual, we start by reading some data from local disk. We will pick a particular event from the `tracking/event` mapping and select the associated frame:"
   ]
  },
  {
   "cell_type": "code",
   "execution_count": null,
   "id": "b7b913a3-cae4-4b1f-9128-bc198138d822",
   "metadata": {},
   "outputs": [],
   "source": [
    "data_path = Path(\"../data\")\n",
    "\n",
    "tracking_event_mapping = pd.read_csv(data_path / \"tracking_event_mapping.csv\", low_memory=False)\n",
    "tracking_df = pd.read_csv(data_path / \"tracking_vel_df.csv\", low_memory=False).set_index(\"frameId\")\n",
    "\n",
    "## pick the frame-id associated with a randomly picked event\n",
    "frame_id = tracking_event_mapping.sample(n=1).frameId.values[0]\n",
    "\n",
    "## select the frame\n",
    "frame = tracking_df.loc[frame_id]\n",
    "lineup = pd.read_csv(data_path / \"lineup.csv\")"
   ]
  },
  {
   "cell_type": "code",
   "execution_count": null,
   "id": "24cdae94-3fdd-4ab3-ad93-107ca1bda119",
   "metadata": {},
   "outputs": [],
   "source": [
    "frame = tracking_df.loc[135036]"
   ]
  },
  {
   "cell_type": "markdown",
   "id": "868ebed6-d3e3-4a6c-8883-a5e3f1e006f8",
   "metadata": {},
   "source": [
    "## Prepare the inputs"
   ]
  },
  {
   "cell_type": "code",
   "execution_count": null,
   "id": "09ee1058-7a2f-4b9a-bfa7-04def9f51da0",
   "metadata": {},
   "outputs": [],
   "source": [
    "class inputs_:\n",
    "    def __init__(self, frame, events_to_frame, lineup):\n",
    "        self.frame, self.lineup, self.events_to_frame = frame, lineup, events_to_frame\n",
    "        self.frame_id = frame.name\n",
    "        self.gk_ids = lineup[lineup.position == \"GK\"].playerId.tolist()\n",
    "        self.possession_team_id = events_to_frame.loc[\n",
    "            events_to_frame.frameId == self.frame_id, \"teamId\"\n",
    "        ].values[0]\n",
    "        self.possession_side = self.lineup.loc[\n",
    "            self.lineup.teamId == self.possession_team_id, \"side\"\n",
    "        ].values[0]\n",
    "        self.opponent_side = \"away\" if bool(re.match(\"home\",self.possession_side)) else \"home\"\n",
    "        self.ball = [self.frame[\"ball_x\"],self.frame[\"ball_y\"]]\n",
    "    def _prepare_inputs(self):\n",
    "        _player_id_cols = self.frame.filter(like=\"_player_id\").index.tolist()\n",
    "        linputs = L(\n",
    "                {\n",
    "                    \"playerId\": self.frame[pid_col],\n",
    "                    \"playerStr\": pid_col.removesuffix(\"_player_id\"),\n",
    "                    \"jerseyNumber\": int(\n",
    "                        pid_col.removesuffix(\"_player_id\")\n",
    "                        .removeprefix(\"away_player_\")\n",
    "                        .removeprefix(\"home_player_\")\n",
    "                    ),\n",
    "                    \"side\": \"home\" if bool(re.match(\"home\", pid_col)) else \"away\",\n",
    "                    \"x\": self.frame[pid_col.removesuffix(\"_player_id\") + \"_x\"],\n",
    "                    \"y\": self.frame[pid_col.removesuffix(\"_player_id\") + \"_y\"],\n",
    "                    \"vx\": self.frame[pid_col.removesuffix(\"_player_id\") + \"_vx\"],\n",
    "                    \"vy\": self.frame[pid_col.removesuffix(\"_player_id\") + \"_vy\"]\n",
    "                }\n",
    "                for pid_col in _player_id_cols\n",
    "            )\n",
    "        \n",
    "        \n",
    "        self.inputs = pd.DataFrame(linputs).dropna(axis=0)\n",
    "        self.att = self.inputs[self.inputs[\"side\"] == self.possession_side] \n",
    "        self.defe = self.inputs[self.inputs[\"side\"] == self.opponent_side]\n",
    "        \n",
    "        self.att_gk_id = self.gk_ids[0] if self.gk_ids[0] in self.att.playerId else self.gk_ids[1]\n",
    "        self.def_gk_id = self.gk_ids[0] if self.gk_ids[0] in self.defe.playerId else self.gk_ids[1]\n",
    "        \n",
    "        #self.gk_def_idx = pd.Index(self.defe[\"playerId\"].values.tolist()).get_loc(self.def_gk_id)\n",
    "        \n",
    "        self.att_tracking= self.att[[\"x\",\"y\",\"vx\",\"vy\"]].to_numpy()\n",
    "        self.def_tracking= self.defe[[\"x\",\"y\",\"vx\",\"vy\"]].to_numpy()\n",
    "        \n"
   ]
  },
  {
   "cell_type": "code",
   "execution_count": null,
   "id": "37c53de4-bd40-4920-be8e-72f0e84a163e",
   "metadata": {},
   "outputs": [],
   "source": [
    "inputs = inputs_(frame, tracking_event_mapping, lineup)\n",
    "inputs._prepare_inputs()\n",
    "att_tracking = inputs.att_tracking\n",
    "def_tracking = inputs.def_tracking"
   ]
  },
  {
   "cell_type": "markdown",
   "id": "3be3e32e-9a04-4436-b6f7-6ba5347d3bb9",
   "metadata": {},
   "source": [
    "## Model paramters"
   ]
  },
  {
   "cell_type": "markdown",
   "id": "8d8c42bb-1055-4134-a960-7a3bedb233af",
   "metadata": {},
   "source": [
    "We define the model parametrs as described down bellow"
   ]
  },
  {
   "cell_type": "code",
   "execution_count": null,
   "id": "7e6c3d5a-cd38-4fed-82f4-e8c0bbb358d8",
   "metadata": {},
   "outputs": [],
   "source": [
    "def default_model_params(time_to_control_veto=3):\n",
    "    ''' key parameters for the model, as described in Spearman 2018'''\n",
    "    params = {}\n",
    "    # model parameters\n",
    "    params['max_player_accel'] = 7. # maximum player acceleration m/s/s, not used in this implementation\n",
    "    params['max_player_speed'] = 5. # maximum player speed m/s\n",
    "    params['reaction_time'] = 0.7 # seconds, time taken for player to react and change trajectory. Roughly determined as vmax/amax\n",
    "    params['tti_sigma'] = 0.45 # Standard deviation of sigmoid function in Spearman 2018 ('s') that determines uncertainty in player arrival time\n",
    "    params['kappa_def'] =  1. # kappa parameter in Spearman 2018 (=1.72 in the paper) that gives the advantage defending players to control ball, I have set to 1 so that home & away players have same ball control probability\n",
    "    params['lambda_att'] = 4.3 # ball control parameter for attacking team\n",
    "    params['lambda_def'] = 4.3 * params['kappa_def'] # ball control parameter for defending team\n",
    "    params['lambda_gk'] = params['lambda_def']*3.0 # make goal keepers must quicker to control ball (because they can catch it)\n",
    "    params['average_ball_speed'] = 15. # average ball travel speed in m/s\n",
    "    # numerical parameters for model evaluation\n",
    "    params['int_dt'] = 0.04 # integration timestep (dt)\n",
    "    params['max_int_time'] = 10 # upper limit on integral time\n",
    "    params['model_converge_tol'] = 0.01 # assume convergence when PPCF>0.99 at a given location.\n",
    "    # The following are 'short-cut' parameters. We do not need to calculated PPCF explicitly when a player has a sufficient head start. \n",
    "    # A sufficient head start is when the a player arrives at the target location at least 'time_to_control' seconds before the next player\n",
    "    params['time_to_control_att'] = time_to_control_veto*np.log(10) * (np.sqrt(3)*params['tti_sigma']/np.pi + 1/params['lambda_att'])\n",
    "    \n",
    "    return params"
   ]
  },
  {
   "cell_type": "code",
   "execution_count": null,
   "id": "14ba0a30-7136-4fac-86eb-3e5050ae37e5",
   "metadata": {},
   "outputs": [],
   "source": [
    "params = default_model_params()"
   ]
  },
  {
   "cell_type": "markdown",
   "id": "50cdc41d-b172-482a-afa2-b4f4c1f785bb",
   "metadata": {},
   "source": [
    "this function is for creating the integration time array for each target position."
   ]
  },
  {
   "cell_type": "code",
   "execution_count": null,
   "id": "5cb843f8-53f7-4380-a05c-16f57971a40b",
   "metadata": {},
   "outputs": [],
   "source": [
    "def arange(ball_travel_time,step=params['int_dt'],end=params['max_int_time']):\n",
    "    dT_array = np.arange(ball_travel_time-step,ball_travel_time+end,step) \n",
    "    return dT_array"
   ]
  },
  {
   "cell_type": "markdown",
   "id": "6832f323-5c9e-45c1-8e12-a969c0052176",
   "metadata": {},
   "source": [
    "We initialize this for test purposes."
   ]
  },
  {
   "cell_type": "code",
   "execution_count": null,
   "id": "943ac53c-2240-4f92-a31e-962f33f86ed0",
   "metadata": {},
   "outputs": [],
   "source": [
    "# array of  target position 'shape 7140,2'\n",
    "vector_target = np.array([[i, j] for i in range(105) for j in range(68)])\n",
    "\n",
    "#array of ball_travel_time for all targets 'shape 7140,1'\n",
    "ball_travel_time_arr = np.linalg.norm( vector_target - inputs.ball ,axis = 1)/params['average_ball_speed']\n",
    "\n",
    "\n",
    "dT_array = np.array(list(map(arange,ball_travel_time_arr)),dtype=object)\n",
    "min_col_dtarray = min(i.shape for i in dT_array)[0]\n",
    "dT_array = np.array([np.resize(array,(min_col_dtarray)) for array in dT_array])"
   ]
  },
  {
   "cell_type": "markdown",
   "id": "f933005d-1c7e-4aae-9454-d0adfbb6a56c",
   "metadata": {},
   "source": [
    "## Simple time to intercept\n",
    "First we have to compute the `reaction location` after the player continues moving from current position at current velocity for `reaction_time` seconds and then we compute the `time to intercept` after the player runs at `full speed` to the `target position`.\n",
    "\n",
    "### Reaction location\n",
    "$\\vec{r} = \\vec{r}_{j}(t) + \\vec{v}_{j}(t) rt. $\n",
    "\n",
    "$ \\vec{r}_{j}$ = Starting position of the player,  $ \\vec{v}_{j}$ = Current velocity of the player,  $ rt$  = reaction time in seconds.\n",
    "\n",
    "### Time to intercept\n",
    "${t}_{exp}(t , \\vec{r}) = {t}_{rea} +  \\frac {\\sqrt{({t})^2 + (\\vec{r})^2}}{s} .$\n",
    "\n",
    "$t$ = Target location , $\\vec{r}$ = Reaction location , $s$ = Max speed player."
   ]
  },
  {
   "cell_type": "code",
   "execution_count": null,
   "id": "edf642fe-629a-4165-8337-b0a31aa8c3f7",
   "metadata": {},
   "outputs": [],
   "source": [
    "def reaction_location(team,params):\n",
    "    return team[:,[0,1]] + team[:,[2,3]] * params['reaction_time']"
   ]
  },
  {
   "cell_type": "markdown",
   "id": "fc46ce42-0bb6-4cf8-8349-0182b9ba0940",
   "metadata": {},
   "source": [
    "we compute the reaction location for all players. the final shape is `( 11, 2)`"
   ]
  },
  {
   "cell_type": "code",
   "execution_count": null,
   "id": "f9bbe0a0-ba12-452a-9a5d-257f593001b3",
   "metadata": {},
   "outputs": [],
   "source": [
    "r_att = reaction_location(att_tracking,params)\n",
    "r_def = reaction_location(def_tracking,params)"
   ]
  },
  {
   "cell_type": "code",
   "execution_count": null,
   "id": "8583417a-55fb-4e95-b080-cd349bfe260d",
   "metadata": {},
   "outputs": [
    {
     "data": {
      "text/plain": [
       "array([[53.430000, 52.842899],\n",
       "       [58.810000, 41.755942],\n",
       "       [90.220000, 36.926957],\n",
       "       [59.600000, 22.351304],\n",
       "       [66.410000, 51.039420],\n",
       "       [69.800000, 56.873623],\n",
       "       [68.940000, 37.439420],\n",
       "       [57.780000, 47.087536],\n",
       "       [39.760000, 24.381449],\n",
       "       [55.190000, 46.713043],\n",
       "       [39.290000, 42.731594]])"
      ]
     },
     "execution_count": null,
     "metadata": {},
     "output_type": "execute_result"
    }
   ],
   "source": [
    "r_att"
   ]
  },
  {
   "cell_type": "code",
   "execution_count": null,
   "id": "2f9e6b19-5117-4ae1-a6b3-b5dd6ab06083",
   "metadata": {},
   "outputs": [],
   "source": [
    "def simple_time_to_intercept(vector_target,r,params):\n",
    "    \n",
    "    sti_array = np.empty([len(vector_target),0])\n",
    "    for player_reaction_time in r:\n",
    "        t = params['reaction_time'] + np.linalg.norm( vector_target - player_reaction_time ,axis = 1) /params['max_player_speed']\n",
    "        sti_array = np.c_[sti_array, t]\n",
    "    \n",
    "    return sti_array"
   ]
  },
  {
   "cell_type": "markdown",
   "id": "a8c37d44-5b7a-4f1b-8b89-30a3d19ccd3d",
   "metadata": {},
   "source": [
    "we compute the time to intercept for each player in team and each target position. the final shape is  `( 7140, 11 ) `"
   ]
  },
  {
   "cell_type": "code",
   "execution_count": null,
   "id": "bab460c6-137b-4dbd-b8ed-26c6e8067c3e",
   "metadata": {},
   "outputs": [],
   "source": [
    "att_sti_array = simple_time_to_intercept(vector_target,r_att,params)\n",
    "def_sti_array = simple_time_to_intercept(vector_target,r_def,params)"
   ]
  },
  {
   "cell_type": "markdown",
   "id": "678cf1f0-37ea-4a5f-af0f-55521ef412be",
   "metadata": {},
   "source": [
    "time to intercept for the target position`[0,0]` :"
   ]
  },
  {
   "cell_type": "code",
   "execution_count": null,
   "id": "8988afca-6df2-46a8-91ad-2ddc54a4a690",
   "metadata": {},
   "outputs": [
    {
     "data": {
      "text/plain": [
       "array([19.196665, 12.638986, 16.549182, 8.481077, 10.075708, 15.154069,\n",
       "       15.338226, 10.781220, 12.805268, 13.217456, 16.210209])"
      ]
     },
     "execution_count": null,
     "metadata": {},
     "output_type": "execute_result"
    }
   ],
   "source": [
    "def_sti_array[0]"
   ]
  },
  {
   "cell_type": "markdown",
   "id": "ee4ac220-f2c1-432e-b80f-154e44ff851f",
   "metadata": {},
   "source": [
    "We initialize this for test purposes."
   ]
  },
  {
   "cell_type": "code",
   "execution_count": null,
   "id": "91cab931-c464-46bd-a8f4-9757eb295868",
   "metadata": {},
   "outputs": [],
   "source": [
    "tau_min_att_ = np.nanmin(att_sti_array,axis=1)[np.newaxis].T\n",
    "tau_min_def_ = np.nanmin(def_sti_array,axis=1)[np.newaxis].T"
   ]
  },
  {
   "cell_type": "markdown",
   "id": "35703629-6053-4599-8991-48c31a1949ce",
   "metadata": {},
   "source": [
    "## probability intercept ball\n",
    "The probability that a player will be able to intercept the ball at a given location on the pitch within\n",
    "some time, T.\n",
    "\n",
    "$ {f}_{j}(t,\\vec{r},T|s)= [1 + {e^{-{\\pi \\frac{T-{t}_{exp}(t , \\vec{r})}{\\sqrt 3 s}}} } ]^{-1}$\n",
    "\n",
    "$ {t}_{exp}(t , \\vec{r}) $ = time to intercept, $\\vec{r}$ = reaction location, $ {𝑇|𝑠} $ = time in seconds."
   ]
  },
  {
   "cell_type": "code",
   "execution_count": null,
   "id": "c4ad829d-5897-4ca2-8bbb-da9c76017c64",
   "metadata": {},
   "outputs": [],
   "source": [
    "def probability_intercept_ball(simple_time_to_intercept_array,dt_array,params=params):\n",
    "\n",
    "    return 1/(1. + np.exp( -np.pi/np.sqrt(3.0)/params[\"tti_sigma\"] * (dt_array[:,:, np.newaxis] - simple_time_to_intercept_array[:, np.newaxis] ) ) )"
   ]
  },
  {
   "cell_type": "markdown",
   "id": "b91186b9-098f-450e-8339-febc7bcb57d1",
   "metadata": {},
   "source": [
    "we compute the probability to intercept the ball for each player and each dt and each target. The final shape is `(7140 , 251, 11)`"
   ]
  },
  {
   "cell_type": "code",
   "execution_count": null,
   "id": "53079efe-375d-4d62-8f6e-2c315599f24c",
   "metadata": {},
   "outputs": [],
   "source": [
    "p_att = probability_intercept_ball(att_sti_array,dT_array,params=params)"
   ]
  },
  {
   "cell_type": "markdown",
   "id": "feb945a1-1171-4d40-823a-9c5f5c3aaadb",
   "metadata": {},
   "source": [
    "the probability to intecept the ball for attacking players at first target `[0,0]` for the first dt."
   ]
  },
  {
   "cell_type": "code",
   "execution_count": null,
   "id": "a881ea6a-c90e-4aeb-9482-241dcdbc2370",
   "metadata": {},
   "outputs": [
    {
     "data": {
      "text/plain": [
       "array([0.000000, 0.000000, 0.000000, 0.000000, 0.000000, 0.000000,\n",
       "       0.000000, 0.000000, 0.000000, 0.000000, 0.000000])"
      ]
     },
     "execution_count": null,
     "metadata": {},
     "output_type": "execute_result"
    }
   ],
   "source": [
    "p_att[0][0] "
   ]
  },
  {
   "cell_type": "markdown",
   "id": "14be5393-f611-4763-a797-b4d7e2f49e76",
   "metadata": {},
   "source": [
    "⚠️ all calculations above are approved."
   ]
  },
  {
   "cell_type": "markdown",
   "id": "aa4b6d14-bb41-4301-8b33-87830d29929b",
   "metadata": {},
   "source": [
    "## Calculate pitch control\n",
    "Calculates the pitch control probability for the attacking and defending teams at a specified target position on the ball."
   ]
  },
  {
   "cell_type": "code",
   "execution_count": null,
   "id": "f601dae4-4221-45bc-b6c3-5baad5175136",
   "metadata": {},
   "outputs": [],
   "source": [
    "def solve_eq(att_sti,def_sti,ball_travel_time,tau_min_att,tau_min_def,params):\n",
    "    # solve pitch control model by integrating equation 3 in Spearman et al.\n",
    "    \n",
    "    # first replace any player that is far (in time) from the target location with zero shape 7140,11\n",
    "    att_sti = np.where( att_sti - tau_min_att < params['time_to_control_def'] , att_sti ,0.0)\n",
    "    def_sti = np.where( def_sti - tau_min_def < params['time_to_control_att'] , def_sti ,0.0)\n",
    "    \n",
    "    \n",
    "    # set up integration array for all targets\n",
    "    dT_array = np.array(list(map(arange,ball_travel_time_arr)),dtype=object)\n",
    "    min_col_dtarray = min(i.shape for i in dT_array)[0]\n",
    "    \n",
    "    #resize dT_array to same shape for all targets, shape 7140,251\n",
    "    dT_array = np.array([np.resize(array,(min_col_dtarray)) for array in dT_array])\n",
    "    \n",
    "    #compute prob to intecept ball * lambda for all targets, shape 7140,251,11\n",
    "    p_att_lambda = probability_intercept_ball(att_sti,dT_array) * params['lambda_att']\n",
    "    p_def_lambda = probability_intercept_ball(def_sti,dT_array) * params['lambda_def']\n",
    "    \n",
    "    #set up arrays, shape 7140,251\n",
    "    PPCFatt = np.zeros((len(dT_array),min_col_dtarray))\n",
    "    PPCFdef = np.zeros((len(dT_array),min_col_dtarray))\n",
    "    \n",
    "    \n",
    "    #set up arrays for ppcf of each player, shape 7140,11\n",
    "    PPCFatt_players = np.zeros((len(dT_array),att_sti_array.shape[1]))\n",
    "    PPCFdef_players = np.zeros((len(dT_array),def_sti_array.shape[1]))\n",
    "    \n",
    "    i = 1\n",
    "    while  i<dT_array[0].size:\n",
    "        dPPCFdT_att = (1-PPCFatt[:,i-1]-PPCFdef[:,i-1])[:, np.newaxis, np.newaxis]*p_att_lambda*params['int_dt']\n",
    "        PPCFatt_players += dPPCFdT_att[:,i,:]\n",
    "        PPCFatt[:,i] = np.sum(PPCFatt_players,axis=1)\n",
    "        \n",
    "        dPPCFdT_def = (1-PPCFatt[:,i-1]-PPCFdef[:,i-1])[:, np.newaxis, np.newaxis]*p_def_lambda*params['int_dt']\n",
    "        PPCFdef_players += dPPCFdT_def[:,i,:]\n",
    "        PPCFdef[:,i] = np.sum(PPCFdef_players,axis=1)\n",
    "        i+=1\n",
    "\n",
    "    return att_sti,def_sti,PPCFatt,PPCFdef"
   ]
  },
  {
   "cell_type": "code",
   "execution_count": null,
   "id": "6700dcf2-ffb6-4b60-b313-4f5232579f93",
   "metadata": {},
   "outputs": [],
   "source": [
    "att_sti,def_sti,PPCFatt,PPCFdef = solve_eq(att_sti_array,def_sti_array,ball_travel_time_arr,tau_min_att_,tau_min_def_,params)"
   ]
  },
  {
   "cell_type": "markdown",
   "id": "8b8ea57e-37a1-4b7b-954e-4b43cad5d771",
   "metadata": {},
   "source": [
    "⚠️ the false calculation of the prob pitch control is due to replacing the removed players with zeros. After using the `probability_intercept_ball` these values are no longer zeros."
   ]
  },
  {
   "cell_type": "code",
   "execution_count": null,
   "id": "fa08f262-9504-455a-b106-13693e6ad0b3",
   "metadata": {},
   "outputs": [],
   "source": [
    "def calculate_pitch_control(target_vector,r_att,r_def, ball_start_pos, params):\n",
    "        \n",
    "    \n",
    "    #compute time to intercept for both teams, shape 7140,11\n",
    "    att_sti_arr = simple_time_to_intercept(target_vector,r_att,params)\n",
    "    def_sti_arr = simple_time_to_intercept(target_vector,r_def,params)\n",
    "    \n",
    "    # ball travel time is distance to target position from current ball position divided assumed average ball speed, shape 7140,1\n",
    "    ball_travel_time_arr = np.linalg.norm( target_vector - ball_start_pos ,axis = 1)/params['average_ball_speed']\n",
    "    \n",
    "    # first get arrival time of 'nearest' attacking player (nearest also dependent on current velocity), shape 7140,1\n",
    "    tau_min_att_arr = np.nanmin(att_sti_arr,axis=1)[np.newaxis].T\n",
    "    tau_min_def_arr = np.nanmin(def_sti_arr,axis=1)[np.newaxis].T\n",
    "    \n",
    "    #initialize array to store ppcatt & ppcdef, shape 7140,2\n",
    "    ppcf_array = np.empty([0,2])\n",
    "    \n",
    "    # if defending team can arrive significantly before attacking team, no need to solve pitch control model\n",
    "    ppcf_array = np.where(tau_min_att-(np.nanmax([ball_travel_time,tau_min_def],axis=0)) >= params['time_to_control_def'],    [0.,1.],[0.,0.])\n",
    "    \n",
    "    # if attacking team can arrive significantly before defending team, no need to solve pitch control model\n",
    "    ppcf_array = np.where(tau_min_def-(np.nanmax([ball_travel_time,tau_min_att],axis=0)) >= params['time_to_control_def'],    [1.,0.],ppcf_array)\n",
    "    \n",
    "    # else we need to solve equation 3\n",
    "    ppcf_array = np.where(ppcf_array == [0.,0.],solve_eq(att_sti,def_sti,ball_travel_time,tau_min_att,tau_min_def,params),ppcf_array)\n",
    "    \n",
    "    return ppcf_array\n",
    "    "
   ]
  },
  {
   "cell_type": "markdown",
   "id": "f9a7ccb6-9b02-48bb-8b17-79403b519376",
   "metadata": {},
   "source": [
    "## generate pitch control"
   ]
  },
  {
   "cell_type": "code",
   "execution_count": null,
   "id": "921a984e-c31e-472f-85d3-3babd02ea427",
   "metadata": {},
   "outputs": [],
   "source": [
    "def generate_pitch_control_for_event(inputs, params, field_dimen = (105,68,)):\n",
    "    \n",
    "    \n",
    "    \n",
    "    # get the details of the event (frame, team in possession, ball_start_position)\n",
    "    attacking_players = inputs.att_tracking\n",
    "    defending_players = inputs.def_tracking\n",
    "    \n",
    "    r_att = reaction_location(attacking_players,params)\n",
    "    r_def = reaction_location(defending_players,params)\n",
    "    \n",
    "    ball_start_pos = np.array(inputs.ball)\n",
    "    # break the pitch down into a grid\n",
    "    n_grid_cells_x = field_dimen[0]\n",
    "    n_grid_cells_y = field_dimen[1]\n",
    "    target_vector = np.array([[i, j] for i in range(n_grid_cells_x) for j in range(n_grid_cells_y)])\n",
    "        \n",
    "    \n",
    "    # calculate pitch pitch control model at each location on the pitch\n",
    "    \n",
    "    ppcf_array = calculate_pitch_control(target_vector,r_att,r_def, ball_start_pos, params)\n",
    "    \n",
    "    \n",
    "    return ppcf_array"
   ]
  },
  {
   "cell_type": "code",
   "execution_count": null,
   "id": "9333b61e-dabd-4289-915c-9923068686e4",
   "metadata": {},
   "outputs": [],
   "source": [
    "'''generate_pitch_control_for_event(inputs, params)'''"
   ]
  },
  {
   "cell_type": "code",
   "execution_count": null,
   "id": "99793cbe-27e0-4ce3-ad64-2f0b665f2b19",
   "metadata": {},
   "outputs": [],
   "source": []
  },
  {
   "cell_type": "code",
   "execution_count": null,
   "id": "7e5ba498-f124-441b-a618-f9ac94bdc5dc",
   "metadata": {},
   "outputs": [],
   "source": []
  },
  {
   "cell_type": "code",
   "execution_count": null,
   "id": "32cc7e50-eb0f-4440-baef-d28aff1da3c0",
   "metadata": {},
   "outputs": [],
   "source": [
    "#| hide\n",
    "\n",
    "import nbdev\n",
    "\n",
    "nbdev.nbdev_export()"
   ]
  },
  {
   "cell_type": "code",
   "execution_count": null,
   "id": "f8017090-3445-48f4-a5c1-e109223dbd91",
   "metadata": {},
   "outputs": [],
   "source": []
  }
 ],
 "metadata": {
  "kernelspec": {
   "display_name": "Python 3 (ipykernel)",
   "language": "python",
   "name": "python3"
  }
 },
 "nbformat": 4,
 "nbformat_minor": 5
}
