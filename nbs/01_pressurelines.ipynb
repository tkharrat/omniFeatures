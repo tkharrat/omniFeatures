{
 "cells": [
  {
   "cell_type": "code",
   "execution_count": null,
   "id": "5d226201-476e-436f-ad2f-c38084fdc1c0",
   "metadata": {},
   "outputs": [],
   "source": [
    "#| default_exp  Features.pressurelines"
   ]
  },
  {
   "cell_type": "code",
   "execution_count": null,
   "id": "6eed633e-a4e4-4f76-b913-d90b119255c3",
   "metadata": {},
   "outputs": [],
   "source": [
    "%load_ext autoreload\n",
    "%autoreload 2\n",
    "from IPython.core.debugger import set_trace"
   ]
  },
  {
   "cell_type": "markdown",
   "id": "0492603b-e3fd-4198-aa33-089640ff4076",
   "metadata": {},
   "source": [
    "# Dynamic Pressure Lines Feature"
   ]
  },
  {
   "cell_type": "markdown",
   "id": "cd9ef7dc-24eb-4ecd-b988-085037cbb190",
   "metadata": {},
   "source": [
    "In this module, we compute the pressure lines feature as described in <cite id=\"g6ews\"><a href=\"#zotero%7C7448072%2FYJQRGD6I\">(Fernández, Bornn, and Cervone 2021)</a></cite>. "
   ]
  },
  {
   "cell_type": "code",
   "execution_count": null,
   "id": "2144d9db-a16e-4683-8362-c5a29be98b87",
   "metadata": {},
   "outputs": [
    {
     "ename": "ModuleNotFoundError",
     "evalue": "No module named 'mplsoccer'",
     "output_type": "error",
     "traceback": [
      "\u001b[0;31m---------------------------------------------------------------------------\u001b[0m",
      "\u001b[0;31mModuleNotFoundError\u001b[0m                       Traceback (most recent call last)",
      "Input \u001b[0;32mIn [3]\u001b[0m, in \u001b[0;36m<cell line: 12>\u001b[0;34m()\u001b[0m\n\u001b[1;32m     10\u001b[0m \u001b[38;5;28;01mfrom\u001b[39;00m \u001b[38;5;21;01mfastcore\u001b[39;00m\u001b[38;5;21;01m.\u001b[39;00m\u001b[38;5;21;01mfoundation\u001b[39;00m \u001b[38;5;28;01mimport\u001b[39;00m L\n\u001b[1;32m     11\u001b[0m \u001b[38;5;28;01mfrom\u001b[39;00m \u001b[38;5;21;01msklearn\u001b[39;00m\u001b[38;5;21;01m.\u001b[39;00m\u001b[38;5;21;01mcluster\u001b[39;00m \u001b[38;5;28;01mimport\u001b[39;00m KMeans, AgglomerativeClustering, SpectralClustering\n\u001b[0;32m---> 12\u001b[0m \u001b[38;5;28;01mfrom\u001b[39;00m \u001b[38;5;21;01mmplsoccer\u001b[39;00m\u001b[38;5;21;01m.\u001b[39;00m\u001b[38;5;21;01mpitch\u001b[39;00m \u001b[38;5;28;01mimport\u001b[39;00m Pitch\n\u001b[1;32m     13\u001b[0m \u001b[38;5;28;01mfrom\u001b[39;00m \u001b[38;5;21;01moperator\u001b[39;00m \u001b[38;5;28;01mimport\u001b[39;00m itemgetter\n",
      "\u001b[0;31mModuleNotFoundError\u001b[0m: No module named 'mplsoccer'"
     ]
    }
   ],
   "source": [
    "#| export\n",
    "\n",
    "import collections\n",
    "import math\n",
    "import os\n",
    "import re\n",
    "\n",
    "import numpy as np\n",
    "import pandas as pd\n",
    "import plotly.graph_objects as go\n",
    "from fastcore.foundation import L\n",
    "from sklearn.cluster import KMeans, AgglomerativeClustering, SpectralClustering\n",
    "from omnisync.visualization.pitch import Pitch,plot_pitch\n",
    "from operator import itemgetter"
   ]
  },
  {
   "cell_type": "markdown",
   "id": "cf44a1dd-7f92-46a5-85de-939332fc6ebf",
   "metadata": {},
   "source": [
    "As usual, we start by reading some data from local disk. We will pick a particular event from the `tracking/event` mapping and select the associated frame:"
   ]
  },
  {
   "cell_type": "code",
   "execution_count": null,
   "id": "d3a6600e-fd07-49b7-a298-529500ab1edf",
   "metadata": {},
   "outputs": [],
   "source": [
    "tracking_event_path = \"../data/tracking_event_mapping.csv\"\n",
    "tracking_path = \"../data/tracking_df.csv\"\n",
    "lineup_path = \"../data/lineup.csv\"\n",
    "\n",
    "tracking_event_mapping = pd.read_csv(tracking_event_path, low_memory=False)\n",
    "tracking_df = pd.read_csv(tracking_path, low_memory=False).set_index(\"frameId\")\n",
    "\n",
    "## pick the frame-id associated with a randomly picked event\n",
    "frame_id = tracking_event_mapping.sample(n=1).frameId.values[0]\n",
    "\n",
    "## select the frame\n",
    "frame = tracking_df.loc[frame_id]\n",
    "lineup = pd.read_csv(lineup_path)"
   ]
  },
  {
   "cell_type": "markdown",
   "id": "9d836ee8-cb91-46d5-b81f-6ec79bb183b9",
   "metadata": {},
   "source": [
    "## `PressureLines` class"
   ]
  },
  {
   "cell_type": "markdown",
   "id": "b0bb1f0d-a21c-4d50-be82-130d6271c38f",
   "metadata": {},
   "source": [
    "The `PressureLine` class takes care of preparing the required inputs to pass to the clustering algorithm, collect the algorithm results and present it in a user friendly way:"
   ]
  },
  {
   "cell_type": "code",
   "execution_count": null,
   "id": "13da1ce3-3996-4c6b-908d-569a303b4da7",
   "metadata": {},
   "outputs": [],
   "source": [
    "#| export\n",
    "\n",
    "\n",
    "class PressureLines:\n",
    "    def __init__(self, frame, events_to_frame, lineup, clustering_algo, *args, **kwars):\n",
    "        self.frame, self.lineup, self.events_to_frame = frame, lineup, events_to_frame\n",
    "        self.algo = clustering_algo(*args, **kwars)\n",
    "        self.gk_ids = lineup[lineup.position == \"GK\"].playerId.tolist()\n",
    "        self.frame_id = frame.name\n",
    "        self.possession_team_id = events_to_frame.loc[\n",
    "            events_to_frame.frameId == self.frame_id, \"teamId\"\n",
    "        ].values[0]\n",
    "        self.possession_side = self.lineup.loc[\n",
    "            self.lineup.teamId == self.possession_team_id, \"side\"\n",
    "        ].values[0]\n",
    "        self.opponent_side = \"away\" if bool(re.match(\"home\",self.possession_side)) else \"home\"\n",
    "\n",
    "    def _prepare_inputs(self):\n",
    "        \"Prepare necessary inputs to pass to the clustering algorithm\"\n",
    "        _player_id_cols = self.frame.filter(like=\"_player_id\").index.tolist()\n",
    "        linputs = L(\n",
    "                {\n",
    "                    \"playerId\": self.frame[pid_col],\n",
    "                    \"playerStr\": pid_col.removesuffix(\"_player_id\"),\n",
    "                    \"jerseyNumber\": int(\n",
    "                        pid_col.removesuffix(\"_player_id\")\n",
    "                        .removeprefix(\"away_player_\")\n",
    "                        .removeprefix(\"home_player_\")\n",
    "                    ),\n",
    "                    \"side\": \"home\" if bool(re.match(\"home\", pid_col)) else \"away\",\n",
    "                    \"x\": self.frame[pid_col.removesuffix(\"_player_id\") + \"_x\"],\n",
    "                    \"y\": self.frame[pid_col.removesuffix(\"_player_id\") + \"_y\"],\n",
    "                }\n",
    "                for pid_col in _player_id_cols\n",
    "            )\n",
    "        \n",
    "        linputs.append( {\n",
    "                    \"playerId\": \"ball\",\n",
    "                    \"playerStr\": \"ball\",\n",
    "                    \"jerseyNumber\": 0,\n",
    "                    \"side\": \"ball\",\n",
    "                    \"x\": self.frame[\"ball_x\"],\n",
    "                    \"y\": self.frame[\"ball_y\"],\n",
    "                })\n",
    "        \n",
    "        self.inputs = pd.DataFrame(linputs).dropna(axis=0)\n",
    "        self.inputs = self.inputs[~self.inputs.playerId.isin(self.gk_ids)]\n",
    "        \n",
    "        self.pl_ids = self.inputs.loc[\n",
    "                    self.inputs[\"side\"] == self.opponent_side, \"playerId\"].tolist()\n",
    "\n",
    "    def _fit(self):\n",
    "        \"Run the clustering algorithm and prepare the output\"\n",
    "        self.xy_input = np.array([\n",
    "            [x,y] for x , y in zip(\n",
    "                self.inputs.loc[\n",
    "                    self.inputs[\"side\"] == self.opponent_side, \"x\"].tolist(),\n",
    "                self.inputs.loc[\n",
    "                    self.inputs['side'] == self.opponent_side, \"y\"].tolist()\n",
    "            )\n",
    "        ])\n",
    "        \n",
    "        vp_input = np.array(self.xy_input, copy=True) \n",
    "        vp_input[:, 1] =  0\n",
    "        hp_input = np.array(self.xy_input, copy=True) \n",
    "        hp_input[:, 0] =  0\n",
    "        \n",
    "        self.vp_output = self.algo.fit_predict(vp_input)\n",
    "        self.hp_output = self.algo.fit_predict(hp_input)\n",
    "        \n",
    "        \n",
    "    def _sort(self):\n",
    "        \"Sort by cluster nearest the ball\"\n",
    "        def centeroid(coord):\n",
    "            \"calculate centroid of a cluster\"\n",
    "            x, y = zip(coord)\n",
    "            l = len(x)\n",
    "            return sum(x)/l, sum(y)/l\n",
    "        \n",
    "        def ball_dist(coord,ball=[self.frame[\"ball_x\"],self.frame[\"ball_y\"]]):\n",
    "            \"calculate distance between centroid and ball\"\n",
    "            return math.sqrt(\n",
    "                (ball[0] - coord[0])**2 + (ball[1] - coord[1])**2 \n",
    "            )\n",
    "        \n",
    "        def sort_one(output, pl_ids=self.pl_ids,coord=self.xy_input):\n",
    "            \"sort dict of player ids\"\n",
    "            clt_dict = collections.defaultdict(list)\n",
    "            for cluster, _id, coord in zip(output, pl_ids,coord):\n",
    "                clt_dict[cluster].append([coord,_id])\n",
    "            \n",
    "            cntd = dict(\n",
    "                map(\n",
    "                    lambda coord: (\n",
    "                        coord[0],\n",
    "                        centeroid(coord[1][0][0])),\n",
    "                    clt_dict.items()\n",
    "                )\n",
    "            )\n",
    "            dist = dict(\n",
    "                map(\n",
    "                    lambda coord: (\n",
    "                        coord[0],\n",
    "                        ball_dist(\n",
    "                            coord[1][0][0],\n",
    "                            [\n",
    "                                self.frame[\"ball_x\"],self.frame[\"ball_y\"]\n",
    "                            ]\n",
    "                        )\n",
    "                    ), \n",
    "                    clt_dict.items()\n",
    "                )\n",
    "            )\n",
    "            \n",
    "            sort = dict(\n",
    "                sorted(\n",
    "                    dist.items(),\n",
    "                    key=lambda item: item[1]\n",
    "                )\n",
    "            )\n",
    "            \n",
    "            return [\n",
    "                list(\n",
    "                    map(itemgetter(1),\n",
    "                        clt_dict.get(key))\n",
    "                ) for key in list(sort.keys())\n",
    "            ],sort\n",
    "        \n",
    "        self.vpl_sorted, self.vpl_keys = sort_one(self.vp_output)\n",
    "        self.hpl_sorted, self.hpl_keys = sort_one(self.hp_output)\n",
    "        \n",
    "        self.pl = pd.DataFrame(\n",
    "            {\n",
    "                \"frameId\": self.frame_id,\n",
    "                \"vPressureline_1\": \",\".join(press.vpl_sorted[0]),\n",
    "                \"vPressureline_2\": \",\".join(press.vpl_sorted[1]),\n",
    "                \"vPressureline_3\": \",\".join(press.vpl_sorted[2]),\n",
    "                \"hPressureline_1\": \",\".join(press.hpl_sorted[0]),\n",
    "                \"hPressureline_2\": \",\".join(press.hpl_sorted[1]),\n",
    "                \"hPressureline_3\": \",\".join(press.hpl_sorted[2]),\n",
    "                    \n",
    "            }\n",
    "            ,index=[0]\n",
    "        )\n",
    "    \n",
    "    def _plot(self,pl=\"vertical\"):\n",
    "        \"Plot the resulting clusters on a football pitch\"\n",
    "        \n",
    "        pitch = Pitch()\n",
    "        coord = press.xy_input - [pitch.pitch_size[0] / 2,pitch.pitch_size[1] / 2]\n",
    "        \n",
    "        if pl == \"vertical\":\n",
    "            plt_vpl = pitch.plot_pitch(show=False)\n",
    "            plt_vpl.add_trace(\n",
    "                go.Scatter(\n",
    "                    x=coord[self.vp_output == list(self.vpl_keys.keys())[0],0],\n",
    "                    y=coord[self.vp_output == list(self.vpl_keys.keys())[0],1],\n",
    "                    name=\"first vertical pressure line\"\n",
    "                )\n",
    "            )\n",
    "            plt_vpl.add_trace(\n",
    "                go.Scatter(\n",
    "                    x=coord[self.vp_output == list(self.vpl_keys.keys())[1],0],\n",
    "                    y=coord[self.vp_output == list(self.vpl_keys.keys())[1],1],\n",
    "                    name=\"second vertical pressure line\"\n",
    "                )\n",
    "            )\n",
    "            plt_vpl.add_trace(\n",
    "                go.Scatter(\n",
    "                    x=coord[self.vp_output == list(self.vpl_keys.keys())[2],0],\n",
    "                    y=coord[self.vp_output == list(self.vpl_keys.keys())[2],1],\n",
    "                    name=\"third vertical pressure line\"\n",
    "                )\n",
    "            )\n",
    "            plt_vpl.add_trace(\n",
    "                go.Scatter(\n",
    "                    x=[self.frame[\"ball_x\"]-pitch.pitch_size[0] / 2], \n",
    "                    y=[self.frame[\"ball_y\"]-pitch.pitch_size[1] / 2],\n",
    "                    name=\"ball\",\n",
    "                    marker_color=\"black\"\n",
    "                )\n",
    "            )\n",
    "            plt_vpl.update_traces(marker_symbol=\"circle\",marker_size=12)\n",
    "            \n",
    "            return plt_vpl            \n",
    "        \n",
    "        elif pl == \"horizontal\":\n",
    "            plt_hpl = pitch.plot_pitch(show=False)\n",
    "            plt_hpl.add_trace(\n",
    "                go.Scatter(\n",
    "                    x=coord[self.hp_output == list(self.hpl_keys.keys())[0],0],\n",
    "                    y=coord[self.hp_output == list(self.hpl_keys.keys())[0],1],\n",
    "                    name=\"first horizontal pressure line\"\n",
    "                )\n",
    "            )\n",
    "            plt_hpl.add_trace(\n",
    "                go.Scatter(\n",
    "                    x=coord[self.hp_output == list(self.hpl_keys.keys())[1],0],\n",
    "                    y=coord[self.hp_output == list(self.hpl_keys.keys())[1],1],\n",
    "                    name=\"second horizontal pressure line\"\n",
    "                )\n",
    "            )\n",
    "            plt_hpl.add_trace(\n",
    "                go.Scatter(\n",
    "                    x=coord[self.hp_output == list(self.hpl_keys.keys())[2],0],\n",
    "                    y=coord[self.hp_output == list(self.hpl_keys.keys())[2],1],\n",
    "                    name=\"third horizontal pressure line\"\n",
    "                )\n",
    "            )\n",
    "            plt_hpl.add_trace(\n",
    "                go.Scatter(\n",
    "                    x=[self.frame[\"ball_x\"]-pitch.pitch_size[0] / 2], \n",
    "                    y=[self.frame[\"ball_y\"]-pitch.pitch_size[1] / 2],\n",
    "                    name=\"ball\",\n",
    "                    marker_color=\"black\"\n",
    "                )\n",
    "            )\n",
    "            plt_hpl.update_traces(marker_symbol=\"circle\",marker_size=12)\n",
    "\n",
    "            return plt_hpl"
   ]
  },
  {
   "cell_type": "code",
   "execution_count": null,
   "id": "74639b21-67fb-4e37-8506-c39d44390c7c",
   "metadata": {},
   "outputs": [],
   "source": [
    "press = PressureLines(frame, tracking_event_mapping, lineup, KMeans, n_clusters=3)\n",
    "press._prepare_inputs()\n",
    "press._fit()\n",
    "press._sort()\n",
    "press.pl"
   ]
  },
  {
   "cell_type": "code",
   "execution_count": null,
   "id": "a90c4585-1c99-4d75-a4f9-2e51786b69b6",
   "metadata": {},
   "outputs": [],
   "source": [
    "press._plot()"
   ]
  },
  {
   "cell_type": "code",
   "execution_count": null,
   "id": "ff5cc49e-1c82-47b5-aa9d-9d803d5323af",
   "metadata": {},
   "outputs": [
    {
     "data": {
      "application/vnd.plotly.v1+json": {
       "config": {
        "plotlyServerURL": "https://plot.ly"
       },
       "data": [
        {
         "marker": {
          "size": 12,
          "symbol": "circle"
         },
         "name": "first horizontal pressure line",
         "type": "scatter",
         "x": [
          39.18000000000001,
          47.760000000000005,
          43.980000000000004,
          27.89
         ],
         "y": [
          22.56811594202898,
          25.24869565217392,
          20.311304347826088,
          21.88811594202899
         ]
        },
        {
         "marker": {
          "size": 12,
          "symbol": "circle"
         },
         "name": "second horizontal pressure line",
         "type": "scatter",
         "x": [
          35.599999999999994,
          40.870000000000005,
          43.290000000000006,
          38.09
         ],
         "y": [
          8.564057971014492,
          6.376231884057972,
          11.766956521739132,
          15.304927536231887
         ]
        },
        {
         "marker": {
          "size": 12,
          "symbol": "circle"
         },
         "name": "third horizontal pressure line",
         "type": "scatter",
         "x": [
          38.5,
          21.159999999999997
         ],
         "y": [
          -3.281739130434783,
          0.6011594202898536
         ]
        },
        {
         "marker": {
          "color": "black",
          "size": 12,
          "symbol": "circle"
         },
         "name": "ball",
         "type": "scatter",
         "x": [
          42.239999999999995
         ],
         "y": [
          31.161739130434782
         ]
        }
       ],
       "layout": {
        "autosize": true,
        "height": 647.6190476190477,
        "hovermode": "closest",
        "legend": {
         "bgcolor": "rgba(0, 0, 0, 0)",
         "orientation": "h",
         "x": 0.1,
         "y": 0.993
        },
        "margin": {
         "b": 0,
         "l": 0,
         "pad": 0,
         "r": 0,
         "t": 0
        },
        "plot_bgcolor": "forestgreen",
        "shapes": [
         {
          "layer": "below",
          "line": {
           "color": "floralwhite"
          },
          "type": "circle",
          "x0": -9.144,
          "x1": 9.144,
          "y0": -9.144,
          "y1": 9.144
         },
         {
          "layer": "below",
          "line": {
           "color": "floralwhite"
          },
          "type": "line",
          "x0": 0,
          "x1": 0,
          "y0": -34,
          "y1": 34
         },
         {
          "fillcolor": "floralwhite",
          "layer": "below",
          "line": {
           "color": "floralwhite"
          },
          "type": "circle",
          "x0": -0.4,
          "x1": 0.4,
          "y0": -0.4,
          "y1": 0.4
         },
         {
          "layer": "below",
          "line": {
           "color": "floralwhite"
          },
          "type": "line",
          "x0": -52.5,
          "x1": 52.5,
          "y0": -34,
          "y1": -34
         },
         {
          "layer": "below",
          "line": {
           "color": "floralwhite"
          },
          "type": "line",
          "x0": -52.5,
          "x1": -52.5,
          "y0": -34,
          "y1": 34
         },
         {
          "layer": "below",
          "line": {
           "color": "floralwhite"
          },
          "type": "circle",
          "x0": -50.6712,
          "x1": -32.3832,
          "y0": -9.144,
          "y1": 9.144
         },
         {
          "fillcolor": "forestgreen",
          "layer": "below",
          "line": {
           "color": "forestgreen",
           "width": 0
          },
          "type": "rect",
          "x0": -52.5,
          "x1": -36.040800000000004,
          "y0": -21.1168,
          "y1": 21.1168
         },
         {
          "layer": "below",
          "line": {
           "color": "floralwhite",
           "width": 2
          },
          "type": "rect",
          "x0": -52.5,
          "x1": -36.040800000000004,
          "y0": -20.1168,
          "y1": 20.1168
         },
         {
          "layer": "below",
          "line": {
           "color": "floralwhite",
           "width": 2
          },
          "type": "rect",
          "x0": -52.5,
          "x1": -47.0136,
          "y0": -9.144,
          "y1": 9.144
         },
         {
          "fillcolor": "floralwhite",
          "layer": "below",
          "line": {
           "color": "floralwhite"
          },
          "type": "circle",
          "x0": -41.9272,
          "x1": -41.1272,
          "y0": -0.4,
          "y1": 0.4
         },
         {
          "fillcolor": "floralwhite",
          "layer": "below",
          "line": {
           "color": "floralwhite",
           "width": 0
          },
          "type": "rect",
          "x0": -52.5,
          "x1": -52,
          "y0": 3.1576,
          "y1": 4.1576
         },
         {
          "fillcolor": "floralwhite",
          "layer": "below",
          "line": {
           "color": "floralwhite",
           "width": 0
          },
          "type": "rect",
          "x0": -52.5,
          "x1": -52,
          "y0": -4.1576,
          "y1": -3.1576
         },
         {
          "layer": "below",
          "line": {
           "color": "floralwhite"
          },
          "type": "line",
          "x0": -52.5,
          "x1": 52.5,
          "y0": 34,
          "y1": 34
         },
         {
          "layer": "below",
          "line": {
           "color": "floralwhite"
          },
          "type": "line",
          "x0": 52.5,
          "x1": 52.5,
          "y0": -34,
          "y1": 34
         },
         {
          "layer": "below",
          "line": {
           "color": "floralwhite"
          },
          "type": "circle",
          "x0": 32.3832,
          "x1": 50.6712,
          "y0": -9.144,
          "y1": 9.144
         },
         {
          "fillcolor": "forestgreen",
          "layer": "below",
          "line": {
           "color": "forestgreen",
           "width": 0
          },
          "type": "rect",
          "x0": 52.5,
          "x1": 36.040800000000004,
          "y0": -21.1168,
          "y1": 21.1168
         },
         {
          "layer": "below",
          "line": {
           "color": "floralwhite",
           "width": 2
          },
          "type": "rect",
          "x0": 52.5,
          "x1": 36.040800000000004,
          "y0": -20.1168,
          "y1": 20.1168
         },
         {
          "layer": "below",
          "line": {
           "color": "floralwhite",
           "width": 2
          },
          "type": "rect",
          "x0": 52.5,
          "x1": 47.0136,
          "y0": -9.144,
          "y1": 9.144
         },
         {
          "fillcolor": "floralwhite",
          "layer": "below",
          "line": {
           "color": "floralwhite"
          },
          "type": "circle",
          "x0": 41.1272,
          "x1": 41.9272,
          "y0": -0.4,
          "y1": 0.4
         },
         {
          "fillcolor": "floralwhite",
          "layer": "below",
          "line": {
           "color": "floralwhite",
           "width": 0
          },
          "type": "rect",
          "x0": 52.5,
          "x1": 52,
          "y0": 3.1576,
          "y1": 4.1576
         },
         {
          "fillcolor": "floralwhite",
          "layer": "below",
          "line": {
           "color": "floralwhite",
           "width": 0
          },
          "type": "rect",
          "x0": 52.5,
          "x1": 52,
          "y0": -4.1576,
          "y1": -3.1576
         }
        ],
        "template": {
         "data": {
          "bar": [
           {
            "error_x": {
             "color": "#2a3f5f"
            },
            "error_y": {
             "color": "#2a3f5f"
            },
            "marker": {
             "line": {
              "color": "#E5ECF6",
              "width": 0.5
             },
             "pattern": {
              "fillmode": "overlay",
              "size": 10,
              "solidity": 0.2
             }
            },
            "type": "bar"
           }
          ],
          "barpolar": [
           {
            "marker": {
             "line": {
              "color": "#E5ECF6",
              "width": 0.5
             },
             "pattern": {
              "fillmode": "overlay",
              "size": 10,
              "solidity": 0.2
             }
            },
            "type": "barpolar"
           }
          ],
          "carpet": [
           {
            "aaxis": {
             "endlinecolor": "#2a3f5f",
             "gridcolor": "white",
             "linecolor": "white",
             "minorgridcolor": "white",
             "startlinecolor": "#2a3f5f"
            },
            "baxis": {
             "endlinecolor": "#2a3f5f",
             "gridcolor": "white",
             "linecolor": "white",
             "minorgridcolor": "white",
             "startlinecolor": "#2a3f5f"
            },
            "type": "carpet"
           }
          ],
          "choropleth": [
           {
            "colorbar": {
             "outlinewidth": 0,
             "ticks": ""
            },
            "type": "choropleth"
           }
          ],
          "contour": [
           {
            "colorbar": {
             "outlinewidth": 0,
             "ticks": ""
            },
            "colorscale": [
             [
              0,
              "#0d0887"
             ],
             [
              0.1111111111111111,
              "#46039f"
             ],
             [
              0.2222222222222222,
              "#7201a8"
             ],
             [
              0.3333333333333333,
              "#9c179e"
             ],
             [
              0.4444444444444444,
              "#bd3786"
             ],
             [
              0.5555555555555556,
              "#d8576b"
             ],
             [
              0.6666666666666666,
              "#ed7953"
             ],
             [
              0.7777777777777778,
              "#fb9f3a"
             ],
             [
              0.8888888888888888,
              "#fdca26"
             ],
             [
              1,
              "#f0f921"
             ]
            ],
            "type": "contour"
           }
          ],
          "contourcarpet": [
           {
            "colorbar": {
             "outlinewidth": 0,
             "ticks": ""
            },
            "type": "contourcarpet"
           }
          ],
          "heatmap": [
           {
            "colorbar": {
             "outlinewidth": 0,
             "ticks": ""
            },
            "colorscale": [
             [
              0,
              "#0d0887"
             ],
             [
              0.1111111111111111,
              "#46039f"
             ],
             [
              0.2222222222222222,
              "#7201a8"
             ],
             [
              0.3333333333333333,
              "#9c179e"
             ],
             [
              0.4444444444444444,
              "#bd3786"
             ],
             [
              0.5555555555555556,
              "#d8576b"
             ],
             [
              0.6666666666666666,
              "#ed7953"
             ],
             [
              0.7777777777777778,
              "#fb9f3a"
             ],
             [
              0.8888888888888888,
              "#fdca26"
             ],
             [
              1,
              "#f0f921"
             ]
            ],
            "type": "heatmap"
           }
          ],
          "heatmapgl": [
           {
            "colorbar": {
             "outlinewidth": 0,
             "ticks": ""
            },
            "colorscale": [
             [
              0,
              "#0d0887"
             ],
             [
              0.1111111111111111,
              "#46039f"
             ],
             [
              0.2222222222222222,
              "#7201a8"
             ],
             [
              0.3333333333333333,
              "#9c179e"
             ],
             [
              0.4444444444444444,
              "#bd3786"
             ],
             [
              0.5555555555555556,
              "#d8576b"
             ],
             [
              0.6666666666666666,
              "#ed7953"
             ],
             [
              0.7777777777777778,
              "#fb9f3a"
             ],
             [
              0.8888888888888888,
              "#fdca26"
             ],
             [
              1,
              "#f0f921"
             ]
            ],
            "type": "heatmapgl"
           }
          ],
          "histogram": [
           {
            "marker": {
             "pattern": {
              "fillmode": "overlay",
              "size": 10,
              "solidity": 0.2
             }
            },
            "type": "histogram"
           }
          ],
          "histogram2d": [
           {
            "colorbar": {
             "outlinewidth": 0,
             "ticks": ""
            },
            "colorscale": [
             [
              0,
              "#0d0887"
             ],
             [
              0.1111111111111111,
              "#46039f"
             ],
             [
              0.2222222222222222,
              "#7201a8"
             ],
             [
              0.3333333333333333,
              "#9c179e"
             ],
             [
              0.4444444444444444,
              "#bd3786"
             ],
             [
              0.5555555555555556,
              "#d8576b"
             ],
             [
              0.6666666666666666,
              "#ed7953"
             ],
             [
              0.7777777777777778,
              "#fb9f3a"
             ],
             [
              0.8888888888888888,
              "#fdca26"
             ],
             [
              1,
              "#f0f921"
             ]
            ],
            "type": "histogram2d"
           }
          ],
          "histogram2dcontour": [
           {
            "colorbar": {
             "outlinewidth": 0,
             "ticks": ""
            },
            "colorscale": [
             [
              0,
              "#0d0887"
             ],
             [
              0.1111111111111111,
              "#46039f"
             ],
             [
              0.2222222222222222,
              "#7201a8"
             ],
             [
              0.3333333333333333,
              "#9c179e"
             ],
             [
              0.4444444444444444,
              "#bd3786"
             ],
             [
              0.5555555555555556,
              "#d8576b"
             ],
             [
              0.6666666666666666,
              "#ed7953"
             ],
             [
              0.7777777777777778,
              "#fb9f3a"
             ],
             [
              0.8888888888888888,
              "#fdca26"
             ],
             [
              1,
              "#f0f921"
             ]
            ],
            "type": "histogram2dcontour"
           }
          ],
          "mesh3d": [
           {
            "colorbar": {
             "outlinewidth": 0,
             "ticks": ""
            },
            "type": "mesh3d"
           }
          ],
          "parcoords": [
           {
            "line": {
             "colorbar": {
              "outlinewidth": 0,
              "ticks": ""
             }
            },
            "type": "parcoords"
           }
          ],
          "pie": [
           {
            "automargin": true,
            "type": "pie"
           }
          ],
          "scatter": [
           {
            "fillpattern": {
             "fillmode": "overlay",
             "size": 10,
             "solidity": 0.2
            },
            "type": "scatter"
           }
          ],
          "scatter3d": [
           {
            "line": {
             "colorbar": {
              "outlinewidth": 0,
              "ticks": ""
             }
            },
            "marker": {
             "colorbar": {
              "outlinewidth": 0,
              "ticks": ""
             }
            },
            "type": "scatter3d"
           }
          ],
          "scattercarpet": [
           {
            "marker": {
             "colorbar": {
              "outlinewidth": 0,
              "ticks": ""
             }
            },
            "type": "scattercarpet"
           }
          ],
          "scattergeo": [
           {
            "marker": {
             "colorbar": {
              "outlinewidth": 0,
              "ticks": ""
             }
            },
            "type": "scattergeo"
           }
          ],
          "scattergl": [
           {
            "marker": {
             "colorbar": {
              "outlinewidth": 0,
              "ticks": ""
             }
            },
            "type": "scattergl"
           }
          ],
          "scattermapbox": [
           {
            "marker": {
             "colorbar": {
              "outlinewidth": 0,
              "ticks": ""
             }
            },
            "type": "scattermapbox"
           }
          ],
          "scatterpolar": [
           {
            "marker": {
             "colorbar": {
              "outlinewidth": 0,
              "ticks": ""
             }
            },
            "type": "scatterpolar"
           }
          ],
          "scatterpolargl": [
           {
            "marker": {
             "colorbar": {
              "outlinewidth": 0,
              "ticks": ""
             }
            },
            "type": "scatterpolargl"
           }
          ],
          "scatterternary": [
           {
            "marker": {
             "colorbar": {
              "outlinewidth": 0,
              "ticks": ""
             }
            },
            "type": "scatterternary"
           }
          ],
          "surface": [
           {
            "colorbar": {
             "outlinewidth": 0,
             "ticks": ""
            },
            "colorscale": [
             [
              0,
              "#0d0887"
             ],
             [
              0.1111111111111111,
              "#46039f"
             ],
             [
              0.2222222222222222,
              "#7201a8"
             ],
             [
              0.3333333333333333,
              "#9c179e"
             ],
             [
              0.4444444444444444,
              "#bd3786"
             ],
             [
              0.5555555555555556,
              "#d8576b"
             ],
             [
              0.6666666666666666,
              "#ed7953"
             ],
             [
              0.7777777777777778,
              "#fb9f3a"
             ],
             [
              0.8888888888888888,
              "#fdca26"
             ],
             [
              1,
              "#f0f921"
             ]
            ],
            "type": "surface"
           }
          ],
          "table": [
           {
            "cells": {
             "fill": {
              "color": "#EBF0F8"
             },
             "line": {
              "color": "white"
             }
            },
            "header": {
             "fill": {
              "color": "#C8D4E3"
             },
             "line": {
              "color": "white"
             }
            },
            "type": "table"
           }
          ]
         },
         "layout": {
          "annotationdefaults": {
           "arrowcolor": "#2a3f5f",
           "arrowhead": 0,
           "arrowwidth": 1
          },
          "autotypenumbers": "strict",
          "coloraxis": {
           "colorbar": {
            "outlinewidth": 0,
            "ticks": ""
           }
          },
          "colorscale": {
           "diverging": [
            [
             0,
             "#8e0152"
            ],
            [
             0.1,
             "#c51b7d"
            ],
            [
             0.2,
             "#de77ae"
            ],
            [
             0.3,
             "#f1b6da"
            ],
            [
             0.4,
             "#fde0ef"
            ],
            [
             0.5,
             "#f7f7f7"
            ],
            [
             0.6,
             "#e6f5d0"
            ],
            [
             0.7,
             "#b8e186"
            ],
            [
             0.8,
             "#7fbc41"
            ],
            [
             0.9,
             "#4d9221"
            ],
            [
             1,
             "#276419"
            ]
           ],
           "sequential": [
            [
             0,
             "#0d0887"
            ],
            [
             0.1111111111111111,
             "#46039f"
            ],
            [
             0.2222222222222222,
             "#7201a8"
            ],
            [
             0.3333333333333333,
             "#9c179e"
            ],
            [
             0.4444444444444444,
             "#bd3786"
            ],
            [
             0.5555555555555556,
             "#d8576b"
            ],
            [
             0.6666666666666666,
             "#ed7953"
            ],
            [
             0.7777777777777778,
             "#fb9f3a"
            ],
            [
             0.8888888888888888,
             "#fdca26"
            ],
            [
             1,
             "#f0f921"
            ]
           ],
           "sequentialminus": [
            [
             0,
             "#0d0887"
            ],
            [
             0.1111111111111111,
             "#46039f"
            ],
            [
             0.2222222222222222,
             "#7201a8"
            ],
            [
             0.3333333333333333,
             "#9c179e"
            ],
            [
             0.4444444444444444,
             "#bd3786"
            ],
            [
             0.5555555555555556,
             "#d8576b"
            ],
            [
             0.6666666666666666,
             "#ed7953"
            ],
            [
             0.7777777777777778,
             "#fb9f3a"
            ],
            [
             0.8888888888888888,
             "#fdca26"
            ],
            [
             1,
             "#f0f921"
            ]
           ]
          },
          "colorway": [
           "#636efa",
           "#EF553B",
           "#00cc96",
           "#ab63fa",
           "#FFA15A",
           "#19d3f3",
           "#FF6692",
           "#B6E880",
           "#FF97FF",
           "#FECB52"
          ],
          "font": {
           "color": "#2a3f5f"
          },
          "geo": {
           "bgcolor": "white",
           "lakecolor": "white",
           "landcolor": "#E5ECF6",
           "showlakes": true,
           "showland": true,
           "subunitcolor": "white"
          },
          "hoverlabel": {
           "align": "left"
          },
          "hovermode": "closest",
          "mapbox": {
           "style": "light"
          },
          "paper_bgcolor": "white",
          "plot_bgcolor": "#E5ECF6",
          "polar": {
           "angularaxis": {
            "gridcolor": "white",
            "linecolor": "white",
            "ticks": ""
           },
           "bgcolor": "#E5ECF6",
           "radialaxis": {
            "gridcolor": "white",
            "linecolor": "white",
            "ticks": ""
           }
          },
          "scene": {
           "xaxis": {
            "backgroundcolor": "#E5ECF6",
            "gridcolor": "white",
            "gridwidth": 2,
            "linecolor": "white",
            "showbackground": true,
            "ticks": "",
            "zerolinecolor": "white"
           },
           "yaxis": {
            "backgroundcolor": "#E5ECF6",
            "gridcolor": "white",
            "gridwidth": 2,
            "linecolor": "white",
            "showbackground": true,
            "ticks": "",
            "zerolinecolor": "white"
           },
           "zaxis": {
            "backgroundcolor": "#E5ECF6",
            "gridcolor": "white",
            "gridwidth": 2,
            "linecolor": "white",
            "showbackground": true,
            "ticks": "",
            "zerolinecolor": "white"
           }
          },
          "shapedefaults": {
           "line": {
            "color": "#2a3f5f"
           }
          },
          "ternary": {
           "aaxis": {
            "gridcolor": "white",
            "linecolor": "white",
            "ticks": ""
           },
           "baxis": {
            "gridcolor": "white",
            "linecolor": "white",
            "ticks": ""
           },
           "bgcolor": "#E5ECF6",
           "caxis": {
            "gridcolor": "white",
            "linecolor": "white",
            "ticks": ""
           }
          },
          "title": {
           "x": 0.05
          },
          "xaxis": {
           "automargin": true,
           "gridcolor": "white",
           "linecolor": "white",
           "ticks": "",
           "title": {
            "standoff": 15
           },
           "zerolinecolor": "white",
           "zerolinewidth": 2
          },
          "yaxis": {
           "automargin": true,
           "gridcolor": "white",
           "linecolor": "white",
           "ticks": "",
           "title": {
            "standoff": 15
           },
           "zerolinecolor": "white",
           "zerolinewidth": 2
          }
         }
        },
        "title": {
         "font": {
          "color": "ghostwhite",
          "size": 15
         },
         "x": 0.5,
         "xanchor": "center",
         "y": 0.025,
         "yanchor": "top"
        },
        "width": 1000,
        "xaxis": {
         "domain": [
          0,
          1
         ],
         "range": [
          -57.09876543209878,
          57.09876543209878
         ],
         "showgrid": false,
         "showticklabels": false,
         "type": "linear",
         "visible": false,
         "zeroline": false
        },
        "yaxis": {
         "domain": [
          0,
          1
         ],
         "range": [
          -37,
          37
         ],
         "scaleanchor": "x",
         "scaleratio": 1,
         "showgrid": false,
         "showticklabels": false,
         "type": "linear",
         "visible": false,
         "zeroline": false
        }
       }
      },
      "image/png": "[encoded data removed]",
      "text/html": [
       "<div>                            <div id=\"9aeeec6f-8c53-48a6-a483-b10f015d218c\" class=\"plotly-graph-div\" style=\"height:647.6190476190477px; width:1000px;\"></div>            <script type=\"text/javascript\">                require([\"plotly\"], function(Plotly) {                    window.PLOTLYENV=window.PLOTLYENV || {};                                    if (document.getElementById(\"9aeeec6f-8c53-48a6-a483-b10f015d218c\")) {                    Plotly.newPlot(                        \"9aeeec6f-8c53-48a6-a483-b10f015d218c\",                        [{\"name\":\"first horizontal pressure line\",\"x\":[39.18000000000001,47.760000000000005,43.980000000000004,27.89],\"y\":[22.56811594202898,25.24869565217392,20.311304347826088,21.88811594202899],\"type\":\"scatter\",\"marker\":{\"size\":12,\"symbol\":\"circle\"}},{\"name\":\"second horizontal pressure line\",\"x\":[35.599999999999994,40.870000000000005,43.290000000000006,38.09],\"y\":[8.564057971014492,6.376231884057972,11.766956521739132,15.304927536231887],\"type\":\"scatter\",\"marker\":{\"size\":12,\"symbol\":\"circle\"}},{\"name\":\"third horizontal pressure line\",\"x\":[38.5,21.159999999999997],\"y\":[-3.281739130434783,0.6011594202898536],\"type\":\"scatter\",\"marker\":{\"size\":12,\"symbol\":\"circle\"}},{\"marker\":{\"color\":\"black\",\"size\":12,\"symbol\":\"circle\"},\"name\":\"ball\",\"x\":[42.239999999999995],\"y\":[31.161739130434782],\"type\":\"scatter\"}],                        {\"autosize\":true,\"height\":647.6190476190477,\"hovermode\":\"closest\",\"legend\":{\"bgcolor\":\"rgba(0,0,0,0)\",\"orientation\":\"h\",\"x\":0.1,\"y\":0.993},\"margin\":{\"b\":0,\"l\":0,\"pad\":0,\"r\":0,\"t\":0},\"plot_bgcolor\":\"forestgreen\",\"shapes\":[{\"layer\":\"below\",\"line\":{\"color\":\"floralwhite\"},\"type\":\"circle\",\"x0\":-9.144,\"x1\":9.144,\"y0\":-9.144,\"y1\":9.144},{\"layer\":\"below\",\"line\":{\"color\":\"floralwhite\"},\"type\":\"line\",\"x0\":0.0,\"x1\":0.0,\"y0\":-34.0,\"y1\":34.0},{\"fillcolor\":\"floralwhite\",\"layer\":\"below\",\"line\":{\"color\":\"floralwhite\"},\"type\":\"circle\",\"x0\":-0.4,\"x1\":0.4,\"y0\":-0.4,\"y1\":0.4},{\"layer\":\"below\",\"line\":{\"color\":\"floralwhite\"},\"type\":\"line\",\"x0\":-52.5,\"x1\":52.5,\"y0\":-34.0,\"y1\":-34.0},{\"layer\":\"below\",\"line\":{\"color\":\"floralwhite\"},\"type\":\"line\",\"x0\":-52.5,\"x1\":-52.5,\"y0\":-34.0,\"y1\":34.0},{\"layer\":\"below\",\"line\":{\"color\":\"floralwhite\"},\"type\":\"circle\",\"x0\":-50.6712,\"x1\":-32.3832,\"y0\":-9.144,\"y1\":9.144},{\"fillcolor\":\"forestgreen\",\"layer\":\"below\",\"line\":{\"color\":\"forestgreen\",\"width\":0},\"type\":\"rect\",\"x0\":-52.5,\"x1\":-36.040800000000004,\"y0\":-21.1168,\"y1\":21.1168},{\"layer\":\"below\",\"line\":{\"color\":\"floralwhite\",\"width\":2},\"type\":\"rect\",\"x0\":-52.5,\"x1\":-36.040800000000004,\"y0\":-20.1168,\"y1\":20.1168},{\"layer\":\"below\",\"line\":{\"color\":\"floralwhite\",\"width\":2},\"type\":\"rect\",\"x0\":-52.5,\"x1\":-47.0136,\"y0\":-9.144,\"y1\":9.144},{\"fillcolor\":\"floralwhite\",\"layer\":\"below\",\"line\":{\"color\":\"floralwhite\"},\"type\":\"circle\",\"x0\":-41.9272,\"x1\":-41.1272,\"y0\":-0.4,\"y1\":0.4},{\"fillcolor\":\"floralwhite\",\"layer\":\"below\",\"line\":{\"color\":\"floralwhite\",\"width\":0},\"type\":\"rect\",\"x0\":-52.5,\"x1\":-52.0,\"y0\":3.1576,\"y1\":4.1576},{\"fillcolor\":\"floralwhite\",\"layer\":\"below\",\"line\":{\"color\":\"floralwhite\",\"width\":0},\"type\":\"rect\",\"x0\":-52.5,\"x1\":-52.0,\"y0\":-4.1576,\"y1\":-3.1576},{\"layer\":\"below\",\"line\":{\"color\":\"floralwhite\"},\"type\":\"line\",\"x0\":-52.5,\"x1\":52.5,\"y0\":34.0,\"y1\":34.0},{\"layer\":\"below\",\"line\":{\"color\":\"floralwhite\"},\"type\":\"line\",\"x0\":52.5,\"x1\":52.5,\"y0\":-34.0,\"y1\":34.0},{\"layer\":\"below\",\"line\":{\"color\":\"floralwhite\"},\"type\":\"circle\",\"x0\":32.3832,\"x1\":50.6712,\"y0\":-9.144,\"y1\":9.144},{\"fillcolor\":\"forestgreen\",\"layer\":\"below\",\"line\":{\"color\":\"forestgreen\",\"width\":0},\"type\":\"rect\",\"x0\":52.5,\"x1\":36.040800000000004,\"y0\":-21.1168,\"y1\":21.1168},{\"layer\":\"below\",\"line\":{\"color\":\"floralwhite\",\"width\":2},\"type\":\"rect\",\"x0\":52.5,\"x1\":36.040800000000004,\"y0\":-20.1168,\"y1\":20.1168},{\"layer\":\"below\",\"line\":{\"color\":\"floralwhite\",\"width\":2},\"type\":\"rect\",\"x0\":52.5,\"x1\":47.0136,\"y0\":-9.144,\"y1\":9.144},{\"fillcolor\":\"floralwhite\",\"layer\":\"below\",\"line\":{\"color\":\"floralwhite\"},\"type\":\"circle\",\"x0\":41.1272,\"x1\":41.9272,\"y0\":-0.4,\"y1\":0.4},{\"fillcolor\":\"floralwhite\",\"layer\":\"below\",\"line\":{\"color\":\"floralwhite\",\"width\":0},\"type\":\"rect\",\"x0\":52.5,\"x1\":52.0,\"y0\":3.1576,\"y1\":4.1576},{\"fillcolor\":\"floralwhite\",\"layer\":\"below\",\"line\":{\"color\":\"floralwhite\",\"width\":0},\"type\":\"rect\",\"x0\":52.5,\"x1\":52.0,\"y0\":-4.1576,\"y1\":-3.1576}],\"title\":{\"font\":{\"color\":\"ghostwhite\",\"size\":15},\"x\":0.5,\"xanchor\":\"center\",\"y\":0.025,\"yanchor\":\"top\"},\"width\":1000,\"xaxis\":{\"range\":[-55.5,55.5],\"showgrid\":false,\"showticklabels\":false,\"visible\":false,\"zeroline\":false},\"yaxis\":{\"range\":[-37.0,37.0],\"scaleanchor\":\"x\",\"scaleratio\":1,\"showgrid\":false,\"showticklabels\":false,\"visible\":false,\"zeroline\":false},\"template\":{\"data\":{\"histogram2dcontour\":[{\"type\":\"histogram2dcontour\",\"colorbar\":{\"outlinewidth\":0,\"ticks\":\"\"},\"colorscale\":[[0.0,\"#0d0887\"],[0.1111111111111111,\"#46039f\"],[0.2222222222222222,\"#7201a8\"],[0.3333333333333333,\"#9c179e\"],[0.4444444444444444,\"#bd3786\"],[0.5555555555555556,\"#d8576b\"],[0.6666666666666666,\"#ed7953\"],[0.7777777777777778,\"#fb9f3a\"],[0.8888888888888888,\"#fdca26\"],[1.0,\"#f0f921\"]]}],\"choropleth\":[{\"type\":\"choropleth\",\"colorbar\":{\"outlinewidth\":0,\"ticks\":\"\"}}],\"histogram2d\":[{\"type\":\"histogram2d\",\"colorbar\":{\"outlinewidth\":0,\"ticks\":\"\"},\"colorscale\":[[0.0,\"#0d0887\"],[0.1111111111111111,\"#46039f\"],[0.2222222222222222,\"#7201a8\"],[0.3333333333333333,\"#9c179e\"],[0.4444444444444444,\"#bd3786\"],[0.5555555555555556,\"#d8576b\"],[0.6666666666666666,\"#ed7953\"],[0.7777777777777778,\"#fb9f3a\"],[0.8888888888888888,\"#fdca26\"],[1.0,\"#f0f921\"]]}],\"heatmap\":[{\"type\":\"heatmap\",\"colorbar\":{\"outlinewidth\":0,\"ticks\":\"\"},\"colorscale\":[[0.0,\"#0d0887\"],[0.1111111111111111,\"#46039f\"],[0.2222222222222222,\"#7201a8\"],[0.3333333333333333,\"#9c179e\"],[0.4444444444444444,\"#bd3786\"],[0.5555555555555556,\"#d8576b\"],[0.6666666666666666,\"#ed7953\"],[0.7777777777777778,\"#fb9f3a\"],[0.8888888888888888,\"#fdca26\"],[1.0,\"#f0f921\"]]}],\"heatmapgl\":[{\"type\":\"heatmapgl\",\"colorbar\":{\"outlinewidth\":0,\"ticks\":\"\"},\"colorscale\":[[0.0,\"#0d0887\"],[0.1111111111111111,\"#46039f\"],[0.2222222222222222,\"#7201a8\"],[0.3333333333333333,\"#9c179e\"],[0.4444444444444444,\"#bd3786\"],[0.5555555555555556,\"#d8576b\"],[0.6666666666666666,\"#ed7953\"],[0.7777777777777778,\"#fb9f3a\"],[0.8888888888888888,\"#fdca26\"],[1.0,\"#f0f921\"]]}],\"contourcarpet\":[{\"type\":\"contourcarpet\",\"colorbar\":{\"outlinewidth\":0,\"ticks\":\"\"}}],\"contour\":[{\"type\":\"contour\",\"colorbar\":{\"outlinewidth\":0,\"ticks\":\"\"},\"colorscale\":[[0.0,\"#0d0887\"],[0.1111111111111111,\"#46039f\"],[0.2222222222222222,\"#7201a8\"],[0.3333333333333333,\"#9c179e\"],[0.4444444444444444,\"#bd3786\"],[0.5555555555555556,\"#d8576b\"],[0.6666666666666666,\"#ed7953\"],[0.7777777777777778,\"#fb9f3a\"],[0.8888888888888888,\"#fdca26\"],[1.0,\"#f0f921\"]]}],\"surface\":[{\"type\":\"surface\",\"colorbar\":{\"outlinewidth\":0,\"ticks\":\"\"},\"colorscale\":[[0.0,\"#0d0887\"],[0.1111111111111111,\"#46039f\"],[0.2222222222222222,\"#7201a8\"],[0.3333333333333333,\"#9c179e\"],[0.4444444444444444,\"#bd3786\"],[0.5555555555555556,\"#d8576b\"],[0.6666666666666666,\"#ed7953\"],[0.7777777777777778,\"#fb9f3a\"],[0.8888888888888888,\"#fdca26\"],[1.0,\"#f0f921\"]]}],\"mesh3d\":[{\"type\":\"mesh3d\",\"colorbar\":{\"outlinewidth\":0,\"ticks\":\"\"}}],\"scatter\":[{\"fillpattern\":{\"fillmode\":\"overlay\",\"size\":10,\"solidity\":0.2},\"type\":\"scatter\"}],\"parcoords\":[{\"type\":\"parcoords\",\"line\":{\"colorbar\":{\"outlinewidth\":0,\"ticks\":\"\"}}}],\"scatterpolargl\":[{\"type\":\"scatterpolargl\",\"marker\":{\"colorbar\":{\"outlinewidth\":0,\"ticks\":\"\"}}}],\"bar\":[{\"error_x\":{\"color\":\"#2a3f5f\"},\"error_y\":{\"color\":\"#2a3f5f\"},\"marker\":{\"line\":{\"color\":\"#E5ECF6\",\"width\":0.5},\"pattern\":{\"fillmode\":\"overlay\",\"size\":10,\"solidity\":0.2}},\"type\":\"bar\"}],\"scattergeo\":[{\"type\":\"scattergeo\",\"marker\":{\"colorbar\":{\"outlinewidth\":0,\"ticks\":\"\"}}}],\"scatterpolar\":[{\"type\":\"scatterpolar\",\"marker\":{\"colorbar\":{\"outlinewidth\":0,\"ticks\":\"\"}}}],\"histogram\":[{\"marker\":{\"pattern\":{\"fillmode\":\"overlay\",\"size\":10,\"solidity\":0.2}},\"type\":\"histogram\"}],\"scattergl\":[{\"type\":\"scattergl\",\"marker\":{\"colorbar\":{\"outlinewidth\":0,\"ticks\":\"\"}}}],\"scatter3d\":[{\"type\":\"scatter3d\",\"line\":{\"colorbar\":{\"outlinewidth\":0,\"ticks\":\"\"}},\"marker\":{\"colorbar\":{\"outlinewidth\":0,\"ticks\":\"\"}}}],\"scattermapbox\":[{\"type\":\"scattermapbox\",\"marker\":{\"colorbar\":{\"outlinewidth\":0,\"ticks\":\"\"}}}],\"scatterternary\":[{\"type\":\"scatterternary\",\"marker\":{\"colorbar\":{\"outlinewidth\":0,\"ticks\":\"\"}}}],\"scattercarpet\":[{\"type\":\"scattercarpet\",\"marker\":{\"colorbar\":{\"outlinewidth\":0,\"ticks\":\"\"}}}],\"carpet\":[{\"aaxis\":{\"endlinecolor\":\"#2a3f5f\",\"gridcolor\":\"white\",\"linecolor\":\"white\",\"minorgridcolor\":\"white\",\"startlinecolor\":\"#2a3f5f\"},\"baxis\":{\"endlinecolor\":\"#2a3f5f\",\"gridcolor\":\"white\",\"linecolor\":\"white\",\"minorgridcolor\":\"white\",\"startlinecolor\":\"#2a3f5f\"},\"type\":\"carpet\"}],\"table\":[{\"cells\":{\"fill\":{\"color\":\"#EBF0F8\"},\"line\":{\"color\":\"white\"}},\"header\":{\"fill\":{\"color\":\"#C8D4E3\"},\"line\":{\"color\":\"white\"}},\"type\":\"table\"}],\"barpolar\":[{\"marker\":{\"line\":{\"color\":\"#E5ECF6\",\"width\":0.5},\"pattern\":{\"fillmode\":\"overlay\",\"size\":10,\"solidity\":0.2}},\"type\":\"barpolar\"}],\"pie\":[{\"automargin\":true,\"type\":\"pie\"}]},\"layout\":{\"autotypenumbers\":\"strict\",\"colorway\":[\"#636efa\",\"#EF553B\",\"#00cc96\",\"#ab63fa\",\"#FFA15A\",\"#19d3f3\",\"#FF6692\",\"#B6E880\",\"#FF97FF\",\"#FECB52\"],\"font\":{\"color\":\"#2a3f5f\"},\"hovermode\":\"closest\",\"hoverlabel\":{\"align\":\"left\"},\"paper_bgcolor\":\"white\",\"plot_bgcolor\":\"#E5ECF6\",\"polar\":{\"bgcolor\":\"#E5ECF6\",\"angularaxis\":{\"gridcolor\":\"white\",\"linecolor\":\"white\",\"ticks\":\"\"},\"radialaxis\":{\"gridcolor\":\"white\",\"linecolor\":\"white\",\"ticks\":\"\"}},\"ternary\":{\"bgcolor\":\"#E5ECF6\",\"aaxis\":{\"gridcolor\":\"white\",\"linecolor\":\"white\",\"ticks\":\"\"},\"baxis\":{\"gridcolor\":\"white\",\"linecolor\":\"white\",\"ticks\":\"\"},\"caxis\":{\"gridcolor\":\"white\",\"linecolor\":\"white\",\"ticks\":\"\"}},\"coloraxis\":{\"colorbar\":{\"outlinewidth\":0,\"ticks\":\"\"}},\"colorscale\":{\"sequential\":[[0.0,\"#0d0887\"],[0.1111111111111111,\"#46039f\"],[0.2222222222222222,\"#7201a8\"],[0.3333333333333333,\"#9c179e\"],[0.4444444444444444,\"#bd3786\"],[0.5555555555555556,\"#d8576b\"],[0.6666666666666666,\"#ed7953\"],[0.7777777777777778,\"#fb9f3a\"],[0.8888888888888888,\"#fdca26\"],[1.0,\"#f0f921\"]],\"sequentialminus\":[[0.0,\"#0d0887\"],[0.1111111111111111,\"#46039f\"],[0.2222222222222222,\"#7201a8\"],[0.3333333333333333,\"#9c179e\"],[0.4444444444444444,\"#bd3786\"],[0.5555555555555556,\"#d8576b\"],[0.6666666666666666,\"#ed7953\"],[0.7777777777777778,\"#fb9f3a\"],[0.8888888888888888,\"#fdca26\"],[1.0,\"#f0f921\"]],\"diverging\":[[0,\"#8e0152\"],[0.1,\"#c51b7d\"],[0.2,\"#de77ae\"],[0.3,\"#f1b6da\"],[0.4,\"#fde0ef\"],[0.5,\"#f7f7f7\"],[0.6,\"#e6f5d0\"],[0.7,\"#b8e186\"],[0.8,\"#7fbc41\"],[0.9,\"#4d9221\"],[1,\"#276419\"]]},\"xaxis\":{\"gridcolor\":\"white\",\"linecolor\":\"white\",\"ticks\":\"\",\"title\":{\"standoff\":15},\"zerolinecolor\":\"white\",\"automargin\":true,\"zerolinewidth\":2},\"yaxis\":{\"gridcolor\":\"white\",\"linecolor\":\"white\",\"ticks\":\"\",\"title\":{\"standoff\":15},\"zerolinecolor\":\"white\",\"automargin\":true,\"zerolinewidth\":2},\"scene\":{\"xaxis\":{\"backgroundcolor\":\"#E5ECF6\",\"gridcolor\":\"white\",\"linecolor\":\"white\",\"showbackground\":true,\"ticks\":\"\",\"zerolinecolor\":\"white\",\"gridwidth\":2},\"yaxis\":{\"backgroundcolor\":\"#E5ECF6\",\"gridcolor\":\"white\",\"linecolor\":\"white\",\"showbackground\":true,\"ticks\":\"\",\"zerolinecolor\":\"white\",\"gridwidth\":2},\"zaxis\":{\"backgroundcolor\":\"#E5ECF6\",\"gridcolor\":\"white\",\"linecolor\":\"white\",\"showbackground\":true,\"ticks\":\"\",\"zerolinecolor\":\"white\",\"gridwidth\":2}},\"shapedefaults\":{\"line\":{\"color\":\"#2a3f5f\"}},\"annotationdefaults\":{\"arrowcolor\":\"#2a3f5f\",\"arrowhead\":0,\"arrowwidth\":1},\"geo\":{\"bgcolor\":\"white\",\"landcolor\":\"#E5ECF6\",\"subunitcolor\":\"white\",\"showland\":true,\"showlakes\":true,\"lakecolor\":\"white\"},\"title\":{\"x\":0.05},\"mapbox\":{\"style\":\"light\"}}}},                        {\"responsive\": true}                    ).then(function(){\n",
       "                            \n",
       "var gd = document.getElementById('9aeeec6f-8c53-48a6-a483-b10f015d218c');\n",
       "var x = new MutationObserver(function (mutations, observer) {{\n",
       "        var display = window.getComputedStyle(gd).display;\n",
       "        if (!display || display === 'none') {{\n",
       "            console.log([gd, 'removed!']);\n",
       "            Plotly.purge(gd);\n",
       "            observer.disconnect();\n",
       "        }}\n",
       "}});\n",
       "\n",
       "// Listen for the removal of the full notebook cells\n",
       "var notebookContainer = gd.closest('#notebook-container');\n",
       "if (notebookContainer) {{\n",
       "    x.observe(notebookContainer, {childList: true});\n",
       "}}\n",
       "\n",
       "// Listen for the clearing of the current output cell\n",
       "var outputEl = gd.closest('.output');\n",
       "if (outputEl) {{\n",
       "    x.observe(outputEl, {childList: true});\n",
       "}}\n",
       "\n",
       "                        })                };                });            </script>        </div>"
      ]
     },
     "metadata": {},
     "output_type": "display_data"
    }
   ],
   "source": [
    "press._plot(pl=\"horizontal\")"
   ]
  },
  {
   "cell_type": "code",
   "execution_count": null,
   "id": "4c9bd4b0-ce2c-4c31-bfd6-15e8b056e2c2",
   "metadata": {},
   "outputs": [],
   "source": [
    "# | hide\n",
    "from nbdev import nbdev_export\n",
    "nbdev_export()"
   ]
  }
 ],
 "metadata": {
  "kernelspec": {
   "display_name": "Python 3 (ipykernel)",
   "language": "python",
   "name": "python3"
  }
 },
 "nbformat": 4,
 "nbformat_minor": 5
}
