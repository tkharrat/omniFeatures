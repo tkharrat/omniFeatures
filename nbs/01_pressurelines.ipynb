{
 "cells": [
  {
   "cell_type": "code",
   "execution_count": null,
   "id": "5d226201-476e-436f-ad2f-c38084fdc1c0",
   "metadata": {},
   "outputs": [],
   "source": [
    "#| default_exp  Feature.pressurelines"
   ]
  },
  {
   "cell_type": "markdown",
   "id": "0492603b-e3fd-4198-aa33-089640ff4076",
   "metadata": {},
   "source": [
    "# Dynamic Pressure Lines Feature"
   ]
  },
  {
   "cell_type": "markdown",
   "id": "cd9ef7dc-24eb-4ecd-b988-085037cbb190",
   "metadata": {},
   "source": [
    "In this module, we compute the pressure lines feature as mentioned in the paper [A framework for the fine-grained evaluation of the instantaneous expected value of soccer possessions](https://link.springer.com/article/10.1007/s10994-021-05989-6)"
   ]
  },
  {
   "cell_type": "code",
   "execution_count": null,
   "id": "2144d9db-a16e-4683-8362-c5a29be98b87",
   "metadata": {},
   "outputs": [],
   "source": [
    "#| export \n",
    "\n",
    "import pandas as pd\n",
    "import numpy as np\n",
    "import collections\n",
    "import math \n",
    "from sklearn.cluster import KMeans"
   ]
  },
  {
   "cell_type": "code",
   "execution_count": null,
   "id": "d3a6600e-fd07-49b7-a298-529500ab1edf",
   "metadata": {},
   "outputs": [],
   "source": [
    "tracking_path = \"/home/islam/Downloads/data/skillCorner_tracking_df.csv\""
   ]
  },
  {
   "cell_type": "code",
   "execution_count": null,
   "id": "112282fb-d71c-409f-a44c-ef5083e3cfa3",
   "metadata": {},
   "outputs": [],
   "source": [
    "tracking_df = pd.read_csv(tracking_path,low_memory=False)"
   ]
  },
  {
   "cell_type": "code",
   "execution_count": null,
   "id": "7cf896f2-95a6-40a3-8545-f1b0aa2e286c",
   "metadata": {},
   "outputs": [],
   "source": [
    "frame = tracking_df[(tracking_df[\"frameId\"] == 741)]"
   ]
  },
  {
   "cell_type": "markdown",
   "id": "9d836ee8-cb91-46d5-b81f-6ec79bb183b9",
   "metadata": {},
   "source": [
    "# Cluster"
   ]
  },
  {
   "cell_type": "markdown",
   "id": "b0bb1f0d-a21c-4d50-be82-130d6271c38f",
   "metadata": {},
   "source": [
    "To compute this feature, we use KMeans clustering. For each frame, we compute the vertical and horizontal pressure lines of the opponent team. \n",
    "\n",
    "To compute that, we identify for each frame :\n",
    "+ opponent team (`home` or `away`)\n",
    "+ ball coordinates (`x`,`y`)\n",
    "+ `cluster input`\n",
    "\n",
    "The `cluster input` has two elements:\n",
    "+ player's coordinates of the opponent team (`x`,`y`)\n",
    "+ player's ids of the opponent team\n",
    "\n",
    "After that, we can apply the cluster and sort it by following these steps:\n",
    "+ compute centroid for each cluster\n",
    "+ compute distance between each centroid and ball\n",
    "+ sort cluster by nearest centroid to ball"
   ]
  },
  {
   "cell_type": "code",
   "execution_count": null,
   "id": "67fa93e4-55fd-456c-921d-7fbfda7f2359",
   "metadata": {},
   "outputs": [],
   "source": [
    "#| export \n",
    "\n",
    "def _cluster(frame, n_clusters=3):\n",
    "\n",
    "    #prepare the cluster input.\n",
    "    def _input(frame, jerseyn_goal=\"1\"):\n",
    "        opponent_team = \"away\" if frame.iloc[0][\"possessionSide\"] == \"home\" else \"home\"\n",
    "        cluster_input = frame.loc[:,\n",
    "                                  frame.columns.str.startswith(\n",
    "                                      (opponent_team))]\n",
    "        cluster_input = cluster_input.loc[:,\n",
    "                                          cluster_input.columns.str.endswith(\n",
    "                                              (\"_x\", \"_y\"))]\n",
    "        cluster_input = cluster_input.drop([\n",
    "            opponent_team + \"_player_\" + jerseyn_goal + \"_x\",\n",
    "            opponent_team + \"_player_\" + jerseyn_goal + \"_y\"\n",
    "        ],\n",
    "                                           axis=1)\n",
    "        cluster_input = cluster_input.dropna(axis=1, how='all')\n",
    "\n",
    "        #find players cols\n",
    "        player_col = [\n",
    "            item.replace(\"x\", \"player_id\")\n",
    "            for item in list(cluster_input.loc[:,\n",
    "                                               cluster_input.columns.str.\n",
    "                                               endswith('_x')].columns.values)\n",
    "        ]\n",
    "        player_ids = [frame.iloc[0][col] for col in player_col]\n",
    "\n",
    "        cluster_input = np.reshape(cluster_input.values, (-1, 2))\n",
    "\n",
    "        return cluster_input, player_ids\n",
    "\n",
    "    #calculate the centroid of a cluster.\n",
    "    def centeroid(coord: list) -> float:\n",
    "        x, y = zip(*coord)\n",
    "        l = len(x)\n",
    "        return sum(x) / l, sum(y) / l\n",
    "\n",
    "    #calculate distance between centroid & ball.\n",
    "    def ball_dist(centroid_coord: list, ball_coord: list) -> float:\n",
    "        return math.sqrt((ball_coord[0] - centroid_coord[0])**2 +\n",
    "                         (ball_coord[1] - centroid_coord[1])**2)\n",
    "\n",
    "    #sort the clusters according to the centroid closest to the ball.\n",
    "    def sort_cluster(cluster_output, player_ids):\n",
    "\n",
    "        clt_pl = collections.defaultdict(list)\n",
    "        clt_coord = collections.defaultdict(list)\n",
    "\n",
    "        for x, y in zip(cluster_output, player_ids):\n",
    "            clt_pl[x].append(y)\n",
    "        for x, y in zip(cluster_output, cluster_input):\n",
    "            clt_coord[x].append(y)\n",
    "\n",
    "        #calculate centeroid for each cluster\n",
    "        clt_coord = dict(\n",
    "            map(\n",
    "                lambda coord: (coord[0], centeroid(coord[1])),\n",
    "                clt_coord.items()))\n",
    "        #calculate distance between centeroid & ball\n",
    "        clt_coord = dict(\n",
    "            map(\n",
    "                lambda coord: (coord[0], ball_dist(coord[1], [ball_coord[0], ball_coord[1]])),\n",
    "                clt_coord.items()))\n",
    "        #sort dict\n",
    "        clt_coord = dict(sorted(clt_coord.items(), key=lambda item: item[1]))\n",
    "\n",
    "        sorted_keys = list(clt_coord.keys())\n",
    "\n",
    "        return [(\",\".join(clt_pl.get(cluster_num)))\n",
    "                for cluster_num in sorted_keys]\n",
    "\n",
    "    #apply cluster on input\n",
    "    def cluster_output(dataset, player_ids, Vpl=True):\n",
    "        X = np.array(dataset, copy=True)\n",
    "        #vertical pressure lines, replace y with zeros\n",
    "        if Vpl:\n",
    "            X[:, 1] = 0\n",
    "        #horizontal pressure lines, replace x with zeros\n",
    "        else:\n",
    "            X[:, 0] = 0\n",
    "\n",
    "        km = KMeans(n_clusters)\n",
    "        y_means = km.fit_predict(X)\n",
    "\n",
    "        return sort_cluster(y_means, player_ids)\n",
    "\n",
    "    ball_coord = [frame.iloc[0][\"ball_x\"], frame.iloc[0][\"ball_y\"]]\n",
    "\n",
    "    cluster_input, player_ids = _input(frame)\n",
    "\n",
    "    vpl_cluster = cluster_output(cluster_input, player_ids)\n",
    "    hpl_cluster = cluster_output(cluster_input, player_ids, Vpl=False)\n",
    "\n",
    "    return vpl_cluster, hpl_cluster"
   ]
  },
  {
   "cell_type": "code",
   "execution_count": null,
   "id": "d2c44348-6741-42a5-b6aa-d63a294bb9bf",
   "metadata": {},
   "outputs": [],
   "source": [
    "#| export \n",
    "\n",
    "def Pressurelines_feature(frame: pd.DataFrame) -> pd.DataFrame:\n",
    "    \n",
    "    #verify the frame is not empty and the possession side is not unknown\n",
    "    if not frame.empty and not frame.iloc[0][\"possessionSide\"] == \"unknown\":\n",
    "        vpl, hpl = _cluster(frame)\n",
    "\n",
    "        row = dict(frameId=frame.iloc[0][\"frameId\"],\n",
    "                   vPressureline1=vpl[0],\n",
    "                   vPressureline2=vpl[1],\n",
    "                   vPressureline3=vpl[2],\n",
    "                   hPressureline1=hpl[0],\n",
    "                   hPressureline2=hpl[1],\n",
    "                   hPressureline3=hpl[2])\n",
    "\n",
    "    return pd.DataFrame(row,index=[0])\n"
   ]
  },
  {
   "cell_type": "code",
   "execution_count": null,
   "id": "45a0c037-0dfc-4b66-98e3-c7914ed0ab87",
   "metadata": {},
   "outputs": [
    {
     "data": {
      "text/html": [
       "<div>\n",
       "<style scoped>\n",
       "    .dataframe tbody tr th:only-of-type {\n",
       "        vertical-align: middle;\n",
       "    }\n",
       "\n",
       "    .dataframe tbody tr th {\n",
       "        vertical-align: top;\n",
       "    }\n",
       "\n",
       "    .dataframe thead th {\n",
       "        text-align: right;\n",
       "    }\n",
       "</style>\n",
       "<table border=\"1\" class=\"dataframe\">\n",
       "  <thead>\n",
       "    <tr style=\"text-align: right;\">\n",
       "      <th></th>\n",
       "      <th>frameId</th>\n",
       "      <th>vPressureline1</th>\n",
       "      <th>vPressureline2</th>\n",
       "      <th>vPressureline3</th>\n",
       "      <th>hPressureline1</th>\n",
       "      <th>hPressureline2</th>\n",
       "      <th>hPressureline3</th>\n",
       "    </tr>\n",
       "  </thead>\n",
       "  <tbody>\n",
       "    <tr>\n",
       "      <th>0</th>\n",
       "      <td>741</td>\n",
       "      <td>d852020e305114abbdef2c6680626fd9743629a930f194...</td>\n",
       "      <td>4fdd6d44f27fccd6926b99b66b96ac31acb58d78aa3c5a...</td>\n",
       "      <td>27a873ab8064d003025d1809775a404ea6d66f3ce24ea8...</td>\n",
       "      <td>957e96878335293e1b2d97a906ccf182c725390214158f...</td>\n",
       "      <td>27a873ab8064d003025d1809775a404ea6d66f3ce24ea8...</td>\n",
       "      <td>4fdd6d44f27fccd6926b99b66b96ac31acb58d78aa3c5a...</td>\n",
       "    </tr>\n",
       "  </tbody>\n",
       "</table>\n",
       "</div>"
      ],
      "text/plain": [
       "   frameId                                     vPressureline1  \\\n",
       "0      741  d852020e305114abbdef2c6680626fd9743629a930f194...   \n",
       "\n",
       "                                      vPressureline2  \\\n",
       "0  4fdd6d44f27fccd6926b99b66b96ac31acb58d78aa3c5a...   \n",
       "\n",
       "                                      vPressureline3  \\\n",
       "0  27a873ab8064d003025d1809775a404ea6d66f3ce24ea8...   \n",
       "\n",
       "                                      hPressureline1  \\\n",
       "0  957e96878335293e1b2d97a906ccf182c725390214158f...   \n",
       "\n",
       "                                      hPressureline2  \\\n",
       "0  27a873ab8064d003025d1809775a404ea6d66f3ce24ea8...   \n",
       "\n",
       "                                      hPressureline3  \n",
       "0  4fdd6d44f27fccd6926b99b66b96ac31acb58d78aa3c5a...  "
      ]
     },
     "execution_count": null,
     "metadata": {},
     "output_type": "execute_result"
    }
   ],
   "source": [
    "Pressurelines_feature(frame)"
   ]
  },
  {
   "cell_type": "code",
   "execution_count": null,
   "id": "b4d4f2f3-20f0-4e1b-9b76-4c5dd2a98547",
   "metadata": {},
   "outputs": [],
   "source": []
  }
 ],
 "metadata": {
  "kernelspec": {
   "display_name": "Python 3 (ipykernel)",
   "language": "python",
   "name": "python3"
  }
 },
 "nbformat": 4,
 "nbformat_minor": 5
}
